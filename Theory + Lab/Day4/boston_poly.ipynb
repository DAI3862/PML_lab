{
 "cells": [
  {
   "cell_type": "code",
   "execution_count": 1,
   "metadata": {},
   "outputs": [],
   "source": [
    "import numpy as np\n",
    "import pandas as pd\n",
    "from sklearn.linear_model import LinearRegression\n",
    "from sklearn.model_selection import train_test_split \n",
    "from sklearn.metrics import r2_score\n",
    "from sklearn.preprocessing import PolynomialFeatures # for polynomial features"
   ]
  },
  {
   "cell_type": "code",
   "execution_count": 2,
   "metadata": {},
   "outputs": [],
   "source": [
    "\n",
    "bos = pd.read_csv(r\"..\\Datasets\\Boston.csv\")\n",
    "y = bos['medv']\n",
    "X = bos.drop('medv', axis=1)"
   ]
  },
  {
   "cell_type": "code",
   "execution_count": 3,
   "metadata": {},
   "outputs": [
    {
     "name": "stdout",
     "output_type": "stream",
     "text": [
      "R2:  0.7133431144123454\n",
      "[-5.84015348e-02  3.74009981e-02 -9.18952118e-03  2.98640550e+00\n",
      " -1.29791828e+01  4.27902999e+00 -8.50890017e-03 -1.39726186e+00\n",
      "  2.39477386e-01 -1.16953033e-02 -8.52512252e-01  1.04780793e-02\n",
      " -5.07993450e-01] 29.50038564969871\n",
      "Cross:  0.713960346536948\n"
     ]
    }
   ],
   "source": [
    "# poly = PolynomialFeatures(degree=1).set_output(transform='pandas')\n",
    "\n",
    "# X_poly = poly.fit_transform(X)\n",
    "\n",
    "from sklearn.model_selection import KFold, cross_val_score\n",
    "\n",
    "\n",
    "X_train, X_test, y_train, y_test = train_test_split(X,y,test_size=0.3,random_state=24)\n",
    "\n",
    "lr = LinearRegression()\n",
    "lr.fit(X_train, y_train)\n",
    "y_pred = lr.predict(X_test)\n",
    "\n",
    "print(\"R2: \",r2_score( y_test, y_pred))\n",
    "print(lr.coef_, lr.intercept_)\n",
    "\n",
    "kfold = KFold(n_splits=5, shuffle=True, random_state=24)\n",
    "res = cross_val_score(lr, X, y, cv = kfold)\n",
    "print(\"Cross: \", res.mean())"
   ]
  },
  {
   "cell_type": "code",
   "execution_count": 12,
   "metadata": {},
   "outputs": [
    {
     "name": "stdout",
     "output_type": "stream",
     "text": [
      "R2:  0.6881556660859667\n"
     ]
    }
   ],
   "source": [
    "poly = PolynomialFeatures(degree=2).set_output(transform='pandas')\n",
    "\n",
    "X_poly = poly.fit_transform(X)\n",
    "\n",
    "from sklearn.model_selection import KFold, cross_val_score\n",
    "\n",
    "\n",
    "X_train, X_test, y_train, y_test = train_test_split(X_poly,y,test_size=0.3,random_state=24)\n",
    "\n",
    "lr = LinearRegression()\n",
    "lr.fit(X_train, y_train)\n",
    "y_pred = lr.predict(X_test)\n",
    "\n",
    "\n",
    "print(\"R2: \",r2_score( y_test, y_pred))\n",
    "# print(lr.coef_, lr.intercept_)\n",
    "# print(lr.coef_, lr.intercept_)\n",
    "\n",
    "# kfold = KFold(n_splits=5, shuffle=True, random_state=24)\n",
    "# res = cross_val_score(lr, X_poly, y, cv = kfold)\n",
    "# print(\"Cross: \", res.mean())"
   ]
  },
  {
   "cell_type": "code",
   "execution_count": 15,
   "metadata": {},
   "outputs": [
    {
     "data": {
      "text/plain": [
       "(506, 560)"
      ]
     },
     "execution_count": 15,
     "metadata": {},
     "output_type": "execute_result"
    }
   ],
   "source": [
    "poly = PolynomialFeatures(degree=3).set_output(transform='pandas')\n",
    "\n",
    "X_poly = poly.fit_transform(X)\n",
    "\n",
    "from sklearn.model_selection import KFold, cross_val_score\n",
    "\n",
    "\n",
    "X_train, X_test, y_train, y_test = train_test_split(X_poly,y,test_size=0.3,random_state=24)\n",
    "X_poly.shape"
   ]
  },
  {
   "cell_type": "code",
   "execution_count": null,
   "metadata": {},
   "outputs": [],
   "source": [
    "\n",
    "lr = LinearRegression()\n",
    "lr.fit(X_train, y_train)\n",
    "\n",
    "y_pred = lr.predict(X_test)\n",
    "\n",
    "print(\"R2: \",r2_score( y_test, y_pred))\n",
    "print(lr.coef_, lr.intercept_)\n",
    "print(lr.coef_, lr.intercept_)\n",
    "\n",
    "kfold = KFold(n_splits=5, shuffle=True, random_state=24)\n",
    "res = cross_val_score(lr, X_poly, y, cv = kfold)\n",
    "print(\"Cross: \", res.mean())"
   ]
  },
  {
   "cell_type": "code",
   "execution_count": null,
   "metadata": {},
   "outputs": [],
   "source": [
    "\n",
    "X_train, X_test, y_train, y_test = train_test_split(X_poly,y,test_size=0.3,random_state=24)\n",
    "\n",
    "lr = LinearRegression()\n",
    "lr.fit(X_train, y_train)\n",
    "\n",
    "y_pred = lr.predict(X_test)\n",
    "\n",
    "print(\"R2: \",r2_score( y_test, y_pred))\n",
    "print(lr.coef_, lr.intercept_)\n",
    "print(lr.coef_, lr.intercept_)\n",
    "\n",
    "kfold = KFold(n_splits=5, shuffle=True, random_state=24)\n",
    "res = cross_val_score(lr, X_poly, y, cv = kfold)\n",
    "print(\"Cross: \", res.mean())"
   ]
  },
  {
   "cell_type": "code",
   "execution_count": 8,
   "metadata": {},
   "outputs": [
    {
     "data": {
      "text/plain": [
       "Index(['crim', 'zn', 'indus', 'chas', 'nox', 'rm', 'age', 'dis', 'rad', 'tax',\n",
       "       'ptratio', 'black', 'lstat'],\n",
       "      dtype='object')"
      ]
     },
     "execution_count": 8,
     "metadata": {},
     "output_type": "execute_result"
    }
   ],
   "source": [
    "X.columns"
   ]
  },
  {
   "cell_type": "code",
   "execution_count": 9,
   "metadata": {},
   "outputs": [
    {
     "data": {
      "text/plain": [
       "0      24.0\n",
       "1      21.6\n",
       "2      34.7\n",
       "3      33.4\n",
       "4      36.2\n",
       "       ... \n",
       "501    22.4\n",
       "502    20.6\n",
       "503    23.9\n",
       "504    22.0\n",
       "505    11.9\n",
       "Name: medv, Length: 506, dtype: float64"
      ]
     },
     "execution_count": 9,
     "metadata": {},
     "output_type": "execute_result"
    }
   ],
   "source": [
    "y"
   ]
  }
 ],
 "metadata": {
  "kernelspec": {
   "display_name": "New",
   "language": "python",
   "name": "python3"
  },
  "language_info": {
   "codemirror_mode": {
    "name": "ipython",
    "version": 3
   },
   "file_extension": ".py",
   "mimetype": "text/x-python",
   "name": "python",
   "nbconvert_exporter": "python",
   "pygments_lexer": "ipython3",
   "version": "3.10.13"
  }
 },
 "nbformat": 4,
 "nbformat_minor": 2
}
