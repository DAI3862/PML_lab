{
 "cells": [
  {
   "cell_type": "code",
   "execution_count": 10,
   "metadata": {},
   "outputs": [],
   "source": [
    "import pandas as pd\n",
    "from sklearn.model_selection import KFold\n",
    "from sklearn.model_selection import train_test_split\n",
    "from sklearn.model_selection import cross_val_score\n",
    "from sklearn.linear_model import Lasso, ElasticNet\n",
    "from sklearn.metrics import r2_score \n",
    "import numpy as np \n"
   ]
  },
  {
   "cell_type": "code",
   "execution_count": 11,
   "metadata": {},
   "outputs": [],
   "source": [
    "\n",
    "conc = pd.read_csv(r\"..\\Cases\\Concrete Strength\\Concrete_Data.csv\")\n",
    "X = conc.drop('Strength', axis=1)\n",
    "y = conc['Strength']\n"
   ]
  },
  {
   "cell_type": "code",
   "execution_count": 12,
   "metadata": {},
   "outputs": [
    {
     "name": "stdout",
     "output_type": "stream",
     "text": [
      "0.5763335877871639\n"
     ]
    }
   ],
   "source": [
    "\n",
    "X_train, X_test, y_train, y_test = train_test_split(X, y, \n",
    "                                                    test_size = 0.3, \n",
    "                                                    random_state=24)\n",
    "lasso = Lasso()\n",
    "lasso.fit(X_train, y_train)\n",
    "y_pred = lasso.predict(X_test)\n",
    "print(r2_score(y_test, y_pred))\n"
   ]
  },
  {
   "cell_type": "code",
   "execution_count": 13,
   "metadata": {},
   "outputs": [
    {
     "name": "stdout",
     "output_type": "stream",
     "text": [
      "Best alpha = 0.001\n"
     ]
    }
   ],
   "source": [
    "\n",
    "########## K-FOLD #############\n",
    "kfold = KFold(n_splits=5, shuffle=True, \n",
    "              random_state=24)\n",
    "lambdas = np.linspace(0.001, 100,40)\n",
    "scores = []\n",
    "for i in lambdas:\n",
    "    lasso = Lasso(alpha=i)\n",
    "    results = cross_val_score(lasso, X, y,\n",
    "                              cv=kfold)\n",
    "    scores.append(results.mean())\n",
    "\n",
    "i_max = np.argmax(scores)\n",
    "print(\"Best alpha =\", lambdas[i_max])\n"
   ]
  },
  {
   "cell_type": "code",
   "execution_count": 14,
   "metadata": {},
   "outputs": [
    {
     "name": "stdout",
     "output_type": "stream",
     "text": [
      "{'alpha': 0.001}\n",
      "0.6066064857714589\n"
     ]
    }
   ],
   "source": [
    "############################\n",
    "\n",
    "from sklearn.model_selection import GridSearchCV\n",
    "params = {'alpha':np.linspace(0.001, 100,40)}\n",
    "gcv = GridSearchCV(lasso, param_grid=params,\n",
    "                   cv=kfold)\n",
    "gcv.fit(X, y)\n",
    "print(gcv.best_params_)\n",
    "print(gcv.best_score_)"
   ]
  },
  {
   "cell_type": "code",
   "execution_count": 16,
   "metadata": {},
   "outputs": [
    {
     "name": "stdout",
     "output_type": "stream",
     "text": [
      "{'alpha': 1.0, 'copy_X': True, 'fit_intercept': True, 'l1_ratio': 0.5, 'max_iter': 1000, 'positive': False, 'precompute': False, 'random_state': None, 'selection': 'cyclic', 'tol': 0.0001, 'warm_start': False}\n",
      "{'alpha': 0.001, 'l1_ratio': 0.001}\n",
      "0.6066065609610952\n",
      "[ 0.11910483  0.10294333  0.08763564 -0.16031911  0.24967948  0.01594138\n",
      "  0.01870292  0.11397284]\n"
     ]
    }
   ],
   "source": [
    "elastic = ElasticNet()\n",
    "from sklearn.model_selection import GridSearchCV\n",
    "\n",
    "print(elastic.get_params())\n",
    "params = {'alpha':np.linspace(0.001, 50,5),\n",
    "          'l1_ratio':np.linspace(0.001,1, 10)}\n",
    "gcv = GridSearchCV(elastic, param_grid=params,\n",
    "                   cv=kfold, scoring='r2')\n",
    "gcv.fit(X, y)\n",
    "pd_cv = pd.DataFrame(gcv.cv_results_)\n",
    "print(gcv.best_params_)\n",
    "print(gcv.best_score_)\n",
    "\n",
    "elastic.fit(X,y)\n",
    "print(elastic.coef_)"
   ]
  }
 ],
 "metadata": {
  "kernelspec": {
   "display_name": "New",
   "language": "python",
   "name": "python3"
  },
  "language_info": {
   "codemirror_mode": {
    "name": "ipython",
    "version": 3
   },
   "file_extension": ".py",
   "mimetype": "text/x-python",
   "name": "python",
   "nbconvert_exporter": "python",
   "pygments_lexer": "ipython3",
   "version": "3.10.13"
  }
 },
 "nbformat": 4,
 "nbformat_minor": 2
}
