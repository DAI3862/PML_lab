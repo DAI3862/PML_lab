{
 "cells": [
  {
   "cell_type": "code",
   "execution_count": 4,
   "metadata": {},
   "outputs": [],
   "source": [
    "import pandas as pd\n",
    "import numpy as np\n",
    "from sklearn.linear_model import LinearRegression\n",
    "from sklearn.model_selection import cross_val_score\n",
    "from sklearn.model_selection import train_test_split\n",
    "from sklearn.metrics import r2_score\n",
    "from sklearn.model_selection import KFold\n",
    "from sklearn.preprocessing import PolynomialFeatures\n",
    "from sklearn.pipeline import Pipeline"
   ]
  },
  {
   "cell_type": "code",
   "execution_count": 5,
   "metadata": {},
   "outputs": [],
   "source": [
    "df=pd.read_csv(r\"..\\Datasets\\Boston.csv\")\n",
    "\n",
    "y = df['medv'] # y = df.iloc[:,-1]  # Dependent Variable\n",
    "X = df.drop('medv', axis=1)  # Independent Variable"
   ]
  },
  {
   "cell_type": "code",
   "execution_count": 6,
   "metadata": {},
   "outputs": [
    {
     "name": "stdout",
     "output_type": "stream",
     "text": [
      "R^2 Score:  0.7133431144123453\n",
      "Cross Validation Score:  0.713960346536948\n"
     ]
    }
   ],
   "source": [
    "X_train, X_test, y_train, y_test = train_test_split(X, y, test_size = 0.3, random_state=24)\n",
    "poly=PolynomialFeatures(degree=1).set_output(transform=\"pandas\")\n",
    "lr=LinearRegression()\n",
    "pipe = Pipeline([('POLY',poly),('LR',lr)])\n",
    "pipe.fit(X_train, y_train)\n",
    "y_pred = pipe.predict(X_test)\n",
    "print(\"R^2 Score: \",r2_score(y_test,y_pred))\n",
    "\n",
    "kfold = KFold(n_splits=5, random_state=24, shuffle=True)\n",
    "\n",
    "results = cross_val_score(pipe, X, y, scoring='r2', cv=kfold)\n",
    "print('Cross Validation Score: ',results.mean())"
   ]
  },
  {
   "cell_type": "code",
   "execution_count": 7,
   "metadata": {},
   "outputs": [
    {
     "name": "stdout",
     "output_type": "stream",
     "text": [
      "R^2 Score:  0.6881556660859667\n",
      "Cross Validation Score:  0.6786672922610152\n"
     ]
    }
   ],
   "source": [
    "X_train, X_test, y_train, y_test = train_test_split(X, y, test_size = 0.3, random_state=24)\n",
    "\n",
    "poly=PolynomialFeatures(degree=2).set_output(transform=\"pandas\")\n",
    "lr=LinearRegression()\n",
    "pipe = Pipeline([('POLY',poly),('LR',lr)])\n",
    "pipe.fit(X_train, y_train)\n",
    "# poly.fit_transform(X_train)\n",
    "# X_poly_train = poly.transform(X_train)\n",
    "# lr.fit(X_poly_train,y_train)\n",
    "\n",
    "y_pred = pipe.predict(X_test)\n",
    "# X_poly_test = poly.transform(X_test)\n",
    "# y_pred = lr.predict(X_poly_test)\n",
    "print(\"R^2 Score: \",r2_score(y_test,y_pred))\n",
    "\n",
    "kfold = KFold(n_splits=5, random_state=24, shuffle=True)\n",
    "\n",
    "results = cross_val_score(pipe, X, y, scoring='r2', cv=kfold)\n",
    "print('Cross Validation Score: ',results.mean())"
   ]
  },
  {
   "cell_type": "code",
   "execution_count": 8,
   "metadata": {},
   "outputs": [
    {
     "name": "stdout",
     "output_type": "stream",
     "text": [
      "R^2 Score:  -8442.445302259555\n",
      "Cross Validation Score:  -3414.016057048734\n"
     ]
    }
   ],
   "source": [
    "poly=PolynomialFeatures(degree=3).set_output(transform=\"pandas\")\n",
    "lr=LinearRegression()\n",
    "pipe = Pipeline([('POLY',poly),('LR',lr)])\n",
    "pipe.fit(X_train, y_train)\n",
    "y_pred = pipe.predict(X_test)\n",
    "print(\"R^2 Score: \",r2_score(y_test,y_pred))\n",
    "\n",
    "kfold = KFold(n_splits=5, random_state=24, shuffle=True)\n",
    "\n",
    "results = cross_val_score(pipe, X, y, scoring='r2', cv=kfold)\n",
    "print('Cross Validation Score: ',results.mean())"
   ]
  },
  {
   "cell_type": "code",
   "execution_count": 9,
   "metadata": {},
   "outputs": [
    {
     "name": "stdout",
     "output_type": "stream",
     "text": [
      "R^2 Score:  -1370.9553199808956\n",
      "Cross Validation Score:  -6311.193149577735\n"
     ]
    }
   ],
   "source": [
    "poly=PolynomialFeatures(degree=4).set_output(transform=\"pandas\")\n",
    "lr=LinearRegression()\n",
    "pipe = Pipeline([('POLY',poly),('LR',lr)])\n",
    "pipe.fit(X_train, y_train)\n",
    "y_pred = pipe.predict(X_test)\n",
    "print(\"R^2 Score: \",r2_score(y_test,y_pred))\n",
    "\n",
    "kfold = KFold(n_splits=5, random_state=24, shuffle=True)\n",
    "\n",
    "results = cross_val_score(pipe, X, y, scoring='r2', cv=kfold)\n",
    "print('Cross Validation Score: ',results.mean())"
   ]
  },
  {
   "cell_type": "code",
   "execution_count": 10,
   "metadata": {},
   "outputs": [
    {
     "name": "stdout",
     "output_type": "stream",
     "text": [
      "R^2 Score:  -5679.908753656253\n",
      "Cross Validation Score:  -5738.846659257908\n"
     ]
    }
   ],
   "source": [
    "poly=PolynomialFeatures(degree=5).set_output(transform=\"pandas\")\n",
    "lr=LinearRegression()\n",
    "pipe = Pipeline([('POLY',poly),('LR',lr)])\n",
    "pipe.fit(X_train, y_train)\n",
    "y_pred = pipe.predict(X_test)\n",
    "print(\"R^2 Score: \",r2_score(y_test,y_pred))\n",
    "\n",
    "kfold = KFold(n_splits=5, random_state=24, shuffle=True)\n",
    "\n",
    "results = cross_val_score(pipe, X, y, scoring='r2', cv=kfold)\n",
    "print('Cross Validation Score: ',results.mean())"
   ]
  },
  {
   "cell_type": "code",
   "execution_count": 11,
   "metadata": {},
   "outputs": [
    {
     "name": "stdout",
     "output_type": "stream",
     "text": [
      "Best Degree:  1\n",
      "Best Cross Val Score:  0.713960346536948\n"
     ]
    }
   ],
   "source": [
    "kfold = KFold(n_splits=5, random_state=24, shuffle=True)\n",
    "lr=LinearRegression()\n",
    "degrees=[1,2,3,4,5]\n",
    "scores=[]\n",
    "\n",
    "for i in degrees:\n",
    "    poly=PolynomialFeatures(degree=i)\n",
    "    pipe = Pipeline([('POLY',poly),('LR',lr)])\n",
    "    results = cross_val_score(pipe, X, y, cv=kfold)\n",
    "    scores.append(results.mean())\n",
    "\n",
    "i_max = np.argmax(scores)\n",
    "print(\"Best Degree: \",degrees[i_max])\n",
    "print(\"Best Cross Val Score: \",scores[i_max])"
   ]
  },
  {
   "cell_type": "code",
   "execution_count": 12,
   "metadata": {},
   "outputs": [
    {
     "name": "stdout",
     "output_type": "stream",
     "text": [
      "{'memory': None, 'steps': [('POLY', PolynomialFeatures(degree=5)), ('LR', LinearRegression())], 'verbose': False, 'POLY': PolynomialFeatures(degree=5), 'LR': LinearRegression(), 'POLY__degree': 5, 'POLY__include_bias': True, 'POLY__interaction_only': False, 'POLY__order': 'C', 'LR__copy_X': True, 'LR__fit_intercept': True, 'LR__n_jobs': None, 'LR__positive': False}\n",
      "{'POLY__degree': 1}\n",
      "0.713960346536948\n"
     ]
    }
   ],
   "source": [
    "from sklearn.model_selection import GridSearchCV\n",
    "\n",
    "print(pipe.get_params())\n",
    "params = {'POLY__degree':[1,2,3,4,5]}\n",
    "\n",
    "# By default GridSearchCV(), calculates 'r2' for regression as scoring\n",
    "gcv = GridSearchCV(pipe, param_grid=params, cv=kfold)\n",
    "\n",
    "gcv.fit(X,y)\n",
    "\n",
    "print(gcv.best_params_)\n",
    "print(gcv.best_score_)"
   ]
  },
  {
   "cell_type": "code",
   "execution_count": null,
   "metadata": {},
   "outputs": [],
   "source": []
  }
 ],
 "metadata": {
  "kernelspec": {
   "display_name": "base",
   "language": "python",
   "name": "python3"
  },
  "language_info": {
   "codemirror_mode": {
    "name": "ipython",
    "version": 3
   },
   "file_extension": ".py",
   "mimetype": "text/x-python",
   "name": "python",
   "nbconvert_exporter": "python",
   "pygments_lexer": "ipython3",
   "version": "3.10.13"
  }
 },
 "nbformat": 4,
 "nbformat_minor": 2
}
