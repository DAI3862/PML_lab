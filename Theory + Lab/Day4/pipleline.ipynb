{
 "cells": [
  {
   "cell_type": "code",
   "execution_count": 4,
   "metadata": {},
   "outputs": [],
   "source": [
    "import numpy as np\n",
    "import pandas as pd\n",
    "from sklearn.linear_model import LinearRegression\n",
    "from sklearn.model_selection import train_test_split \n",
    "from sklearn.metrics import r2_score\n",
    "from sklearn.preprocessing import PolynomialFeatures # for polynomial features\n",
    "from sklearn.model_selection import KFold, cross_val_score\n",
    "from sklearn.pipeline import Pipeline"
   ]
  },
  {
   "cell_type": "code",
   "execution_count": 2,
   "metadata": {},
   "outputs": [],
   "source": [
    "\n",
    "bos = pd.read_csv(r\"..\\Datasets\\Boston.csv\")\n",
    "y = bos['medv']\n",
    "X = bos.drop('medv', axis=1)"
   ]
  },
  {
   "cell_type": "code",
   "execution_count": 3,
   "metadata": {},
   "outputs": [
    {
     "name": "stdout",
     "output_type": "stream",
     "text": [
      "0.7133431144123454\n"
     ]
    }
   ],
   "source": [
    "from sklearn.pipeline import Pipeline\n",
    "\n",
    "\n",
    "X_train, X_test, y_train, y_test = train_test_split(X,y,test_size=0.3,random_state=24)\n",
    "\n",
    "lr = LinearRegression()\n",
    "\n",
    "pipe = Pipeline([('LR', lr)])\n",
    "pipe.fit(X_train, y_train)\n",
    "# poly.fit(X_train)\n",
    "# X_poly_trn = poly.transform(X_train)\n",
    "# lr.fit(X_poly_trn, y_train)\n",
    "\n",
    "y_pred = pipe.predict(X_test)\n",
    "# X_poly_tst = poly.transform(X_test)\n",
    "# lr.predict(X_poly_tst)\n",
    "\n",
    "print(r2_score(y_test, y_pred))\n",
    "\n",
    "res = cross_val_score(pipe, X, y, cv = kfold)"
   ]
  },
  {
   "cell_type": "code",
   "execution_count": 4,
   "metadata": {},
   "outputs": [
    {
     "name": "stdout",
     "output_type": "stream",
     "text": [
      "0.6881556660859667\n"
     ]
    }
   ],
   "source": [
    "\n",
    "\n",
    "\n",
    "X_train, X_test, y_train, y_test = train_test_split(X,y,test_size=0.3,random_state=24)\n",
    "\n",
    "poly = PolynomialFeatures(degree=2).set_output(transform='pandas')\n",
    "\n",
    "lr = LinearRegression()\n",
    "\n",
    "pipe = Pipeline([('POLY', poly), ('LR', lr)])\n",
    "pipe.fit(X_train, y_train)\n",
    "# poly.fit(X_train)\n",
    "# X_poly_trn = poly.transform(X_train)\n",
    "# lr.fit(X_poly_trn, y_train)\n",
    "\n",
    "y_pred = pipe.predict(X_test)\n",
    "# X_poly_tst = poly.transform(X_test)\n",
    "# lr.predict(X_poly_tst)\n",
    "\n",
    "print(r2_score(y_test, y_pred))\n",
    "\n",
    "kfold = KFold(n_splits=5, shuffle=True, random_state=24)\n",
    "res = cross_val_score(pipe,X,y, cv = kfold)"
   ]
  },
  {
   "cell_type": "code",
   "execution_count": 5,
   "metadata": {},
   "outputs": [
    {
     "name": "stdout",
     "output_type": "stream",
     "text": [
      "-8442.445302259555\n"
     ]
    }
   ],
   "source": [
    "from sklearn.pipeline import Pipeline\n",
    "\n",
    "\n",
    "X_train, X_test, y_train, y_test = train_test_split(X,y,test_size=0.3,random_state=24)\n",
    "\n",
    "poly = PolynomialFeatures(degree=3).set_output(transform='pandas')\n",
    "\n",
    "lr = LinearRegression()\n",
    "\n",
    "pipe = Pipeline([('POLY', poly), ('LR', lr)])\n",
    "pipe.fit(X_train, y_train)\n",
    "# poly.fit(X_train)\n",
    "# X_poly_trn = poly.transform(X_train)\n",
    "# lr.fit(X_poly_trn, y_train)\n",
    "\n",
    "y_pred = pipe.predict(X_test)\n",
    "# X_poly_tst = poly.transform(X_test)\n",
    "# lr.predict(X_poly_tst)\n",
    "\n",
    "print(r2_score(y_test, y_pred))"
   ]
  },
  {
   "cell_type": "code",
   "execution_count": 6,
   "metadata": {},
   "outputs": [
    {
     "name": "stdout",
     "output_type": "stream",
     "text": [
      "-1370.9553199808956\n"
     ]
    }
   ],
   "source": [
    "from sklearn.pipeline import Pipeline\n",
    "\n",
    "\n",
    "X_train, X_test, y_train, y_test = train_test_split(X,y,test_size=0.3,random_state=24)\n",
    "\n",
    "poly = PolynomialFeatures(degree=4).set_output(transform='pandas')\n",
    "\n",
    "lr = LinearRegression()\n",
    "\n",
    "pipe = Pipeline([('POLY', poly), ('LR', lr)])\n",
    "pipe.fit(X_train, y_train)\n",
    "# poly.fit(X_train)\n",
    "# X_poly_trn = poly.transform(X_train)\n",
    "# lr.fit(X_poly_trn, y_train)\n",
    "\n",
    "y_pred = pipe.predict(X_test)\n",
    "# X_poly_tst = poly.transform(X_test)\n",
    "# lr.predict(X_poly_tst)\n",
    "\n",
    "print(r2_score(y_test, y_pred))"
   ]
  },
  {
   "cell_type": "markdown",
   "metadata": {},
   "source": [
    "###########"
   ]
  },
  {
   "cell_type": "code",
   "execution_count": 5,
   "metadata": {},
   "outputs": [
    {
     "name": "stdout",
     "output_type": "stream",
     "text": [
      "Best degree:  1\n",
      "Best Score:  0.713960346536948\n"
     ]
    }
   ],
   "source": [
    "kfold = kfold = KFold(n_splits=5, shuffle=True, random_state=24)\n",
    "\n",
    "degrees = [1,2,3,4,5]\n",
    "lr = LinearRegression()\n",
    "scores = []\n",
    "\n",
    "for i in degrees:\n",
    "    poly = PolynomialFeatures(degree=i)\n",
    "    pipe = pipe = Pipeline([('POLY', poly), ('LR', lr)])\n",
    "    res = cross_val_score(pipe, X, y, cv = kfold)\n",
    "    scores.append(res.mean())\n",
    "\n",
    "i_max = np.argmax(scores)\n",
    "print(\"Best degree: \", degrees[i_max])\n",
    "print(\"Best Score: \", scores[i_max])"
   ]
  },
  {
   "cell_type": "markdown",
   "metadata": {},
   "source": [
    "degree in depend upon the dataset and its nature.\\\n",
    "here the dataset is linear so its degree 1\\\n",
    "if it is quadratic in nature then the degree would be 2\\\n",
    "... Similarly"
   ]
  },
  {
   "cell_type": "code",
   "execution_count": 6,
   "metadata": {},
   "outputs": [
    {
     "data": {
      "text/plain": [
       "[0.713960346536948,\n",
       " 0.6786672922610152,\n",
       " -3414.016057048734,\n",
       " -6311.193149577735,\n",
       " -5738.846659257908]"
      ]
     },
     "execution_count": 6,
     "metadata": {},
     "output_type": "execute_result"
    }
   ],
   "source": [
    "scores"
   ]
  },
  {
   "cell_type": "code",
   "execution_count": 8,
   "metadata": {},
   "outputs": [
    {
     "data": {
      "text/plain": [
       "'1.4.2'"
      ]
     },
     "execution_count": 8,
     "metadata": {},
     "output_type": "execute_result"
    }
   ],
   "source": [
    "import sklearn\n",
    "sklearn.__version__"
   ]
  },
  {
   "cell_type": "markdown",
   "metadata": {},
   "source": [
    "GridSerachCV"
   ]
  },
  {
   "cell_type": "code",
   "execution_count": 8,
   "metadata": {},
   "outputs": [
    {
     "name": "stdout",
     "output_type": "stream",
     "text": [
      "{'memory': None, 'steps': [('POLY', PolynomialFeatures()), ('LR', LinearRegression())], 'verbose': False, 'POLY': PolynomialFeatures(), 'LR': LinearRegression(), 'POLY__degree': 2, 'POLY__include_bias': True, 'POLY__interaction_only': False, 'POLY__order': 'C', 'LR__copy_X': True, 'LR__fit_intercept': True, 'LR__n_jobs': None, 'LR__positive': False}\n",
      "0.713960346536948\n",
      "{'POLY__degree': 1}\n"
     ]
    }
   ],
   "source": [
    "from sklearn.model_selection import GridSearchCV\n",
    "\n",
    "poly = PolynomialFeatures()\n",
    "\n",
    "pipe = pipe = Pipeline([('POLY', poly), ('LR', lr)])\n",
    "print(pipe.get_params())\n",
    "params = {'POLY__degree':[1,2,3,4,5]}\n",
    "gcv = GridSearchCV(20, param_grid=params, cv= kfold)\n",
    "gcv.fit(X, y)\n",
    "print(gcv.best_score_)\n",
    "print(gcv.best_params_)"
   ]
  },
  {
   "cell_type": "code",
   "execution_count": null,
   "metadata": {},
   "outputs": [],
   "source": [
    "\n",
    "from sklearn.linear_model import Ridge\n",
    "\n",
    "\n",
    "poly = PolynomialFeatures()\n",
    "ridge = Ridge()\n",
    "\n",
    "pipe = pipe = Pipeline([('POLY', poly), ('RIDGE', ridge)])\n",
    "print(pipe.get_params())\n",
    "params = {'POLY__degree':[1,2,3,4,5]}\n",
    "gcv = GridSearchCV(pipe, param_grid=params, cv= kfold)\n",
    "gcv.fit(X, y)\n",
    "print(gcv.best_score_)\n",
    "print(gcv.best_params_)"
   ]
  },
  {
   "cell_type": "code",
   "execution_count": null,
   "metadata": {},
   "outputs": [],
   "source": []
  }
 ],
 "metadata": {
  "kernelspec": {
   "display_name": "New",
   "language": "python",
   "name": "python3"
  },
  "language_info": {
   "codemirror_mode": {
    "name": "ipython",
    "version": 3
   },
   "file_extension": ".py",
   "mimetype": "text/x-python",
   "name": "python",
   "nbconvert_exporter": "python",
   "pygments_lexer": "ipython3",
   "version": "3.10.13"
  }
 },
 "nbformat": 4,
 "nbformat_minor": 2
}
