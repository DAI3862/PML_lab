{
 "cells": [
  {
   "cell_type": "code",
   "execution_count": 7,
   "metadata": {},
   "outputs": [],
   "source": [
    "import pandas as pd\n",
    "from sklearn.model_selection import KFold\n",
    "from sklearn.model_selection import train_test_split\n",
    "from sklearn.model_selection import cross_val_score\n",
    "from sklearn.linear_model import Lasso, ElasticNet, Ridge\n",
    "from sklearn.preprocessing import LabelEncoder\n",
    "from sklearn.metrics import r2_score \n",
    "import numpy as np \n"
   ]
  },
  {
   "cell_type": "code",
   "execution_count": 8,
   "metadata": {},
   "outputs": [],
   "source": [
    "\n",
    "isu = pd.read_csv(r\"..\\Cases\\Medical Cost Personal\\insurance.csv\")\n",
    "\n",
    "\n",
    "dum_isu = pd.get_dummies(isu, drop_first=True)\n",
    "X = dum_isu.drop('charges', axis=1)\n",
    "y = dum_isu['charges']\n",
    "\n",
    "\n"
   ]
  },
  {
   "cell_type": "code",
   "execution_count": 9,
   "metadata": {},
   "outputs": [
    {
     "name": "stdout",
     "output_type": "stream",
     "text": [
      "0.766542579868441\n"
     ]
    }
   ],
   "source": [
    "\n",
    "X_train, X_test, y_train, y_test = train_test_split(X, y, \n",
    "                                                    test_size = 0.3, \n",
    "                                                    random_state=24)\n",
    "lasso = Lasso()\n",
    "lasso.fit(X_train, y_train)\n",
    "y_pred = lasso.predict(X_test)\n",
    "print(r2_score(y_test, y_pred))\n"
   ]
  },
  {
   "cell_type": "code",
   "execution_count": 10,
   "metadata": {},
   "outputs": [
    {
     "name": "stdout",
     "output_type": "stream",
     "text": [
      "Best alpha = 38.46215384615384\n"
     ]
    }
   ],
   "source": [
    "\n",
    "########## K-FOLD #############\n",
    "kfold = KFold(n_splits=5, shuffle=True, \n",
    "              random_state=24)\n",
    "lambdas = np.linspace(0.001, 100,40)\n",
    "scores = []\n",
    "for i in lambdas:\n",
    "    lasso = Lasso(alpha=i)\n",
    "    results = cross_val_score(lasso, X, y,\n",
    "                              cv=kfold)\n",
    "    scores.append(results.mean())\n",
    "\n",
    "i_max = np.argmax(scores)\n",
    "print(\"Best alpha =\", lambdas[i_max])\n"
   ]
  },
  {
   "cell_type": "code",
   "execution_count": 11,
   "metadata": {},
   "outputs": [
    {
     "name": "stdout",
     "output_type": "stream",
     "text": [
      "{'alpha': 38.46215384615384}\n",
      "0.744531590596339\n"
     ]
    }
   ],
   "source": [
    "############################\n",
    "\n",
    "from sklearn.model_selection import GridSearchCV\n",
    "params = {'alpha':np.linspace(0.001, 100,40)}\n",
    "gcv = GridSearchCV(lasso, param_grid=params,\n",
    "                   cv=kfold)\n",
    "gcv.fit(X, y)\n",
    "print(gcv.best_params_)\n",
    "print(gcv.best_score_)"
   ]
  },
  {
   "cell_type": "code",
   "execution_count": 12,
   "metadata": {},
   "outputs": [
    {
     "name": "stdout",
     "output_type": "stream",
     "text": [
      "0.765876824167379\n",
      "{'alpha': 0.001}\n",
      "0.7442304540793144\n"
     ]
    }
   ],
   "source": [
    "ridge = Ridge()\n",
    "ridge.fit(X_train, y_train)\n",
    "y_pred = ridge.predict(X_test)\n",
    "print(r2_score(y_test, y_pred))\n",
    "from sklearn.model_selection import GridSearchCV\n",
    "params = {'alpha':np.linspace(0.001, 100,40)}\n",
    "gcv = GridSearchCV(ridge, param_grid=params,\n",
    "                   cv=kfold)\n",
    "gcv.fit(X, y)\n",
    "print(gcv.best_params_)\n",
    "print(gcv.best_score_)"
   ]
  },
  {
   "cell_type": "code",
   "execution_count": 13,
   "metadata": {},
   "outputs": [
    {
     "name": "stdout",
     "output_type": "stream",
     "text": [
      "{'alpha': 1.0, 'copy_X': True, 'fit_intercept': True, 'l1_ratio': 0.5, 'max_iter': 1000, 'positive': False, 'precompute': False, 'random_state': None, 'selection': 'cyclic', 'tol': 0.0001, 'warm_start': False}\n",
      "{'alpha': 37.50025, 'l1_ratio': 1.0}\n",
      "0.7445309871241849\n",
      "[ 245.02779625  320.6540465   392.51968357  322.8450162  5833.36578447\n",
      "  -99.18518978  124.90882135 -289.29980534]\n"
     ]
    }
   ],
   "source": [
    "elastic = ElasticNet()\n",
    "from sklearn.model_selection import GridSearchCV\n",
    "\n",
    "print(elastic.get_params())\n",
    "params = {'alpha':np.linspace(0.001, 50,5),\n",
    "          'l1_ratio':np.linspace(0.001,1, 10)}\n",
    "gcv = GridSearchCV(elastic, param_grid=params,\n",
    "                   cv=kfold, scoring='r2')\n",
    "gcv.fit(X, y)\n",
    "pd_cv = pd.DataFrame(gcv.cv_results_)\n",
    "print(gcv.best_params_)\n",
    "print(gcv.best_score_)\n",
    "\n",
    "elastic.fit(X,y)\n",
    "print(elastic.coef_)"
   ]
  }
 ],
 "metadata": {
  "kernelspec": {
   "display_name": "New",
   "language": "python",
   "name": "python3"
  },
  "language_info": {
   "codemirror_mode": {
    "name": "ipython",
    "version": 3
   },
   "file_extension": ".py",
   "mimetype": "text/x-python",
   "name": "python",
   "nbconvert_exporter": "python",
   "pygments_lexer": "ipython3",
   "version": "3.10.13"
  }
 },
 "nbformat": 4,
 "nbformat_minor": 2
}
