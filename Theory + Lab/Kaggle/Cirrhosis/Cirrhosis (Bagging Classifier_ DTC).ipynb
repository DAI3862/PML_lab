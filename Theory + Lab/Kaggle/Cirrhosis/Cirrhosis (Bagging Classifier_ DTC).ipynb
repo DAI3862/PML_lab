{
 "cells": [
  {
   "cell_type": "code",
   "execution_count": 1,
   "metadata": {},
   "outputs": [],
   "source": [
    "import pandas as pd\n",
    "from sklearn.model_selection import train_test_split \n",
    "from sklearn.tree import DecisionTreeClassifier\n",
    "from sklearn.metrics import log_loss, accuracy_score\n",
    "from sklearn.model_selection import StratifiedKFold\n",
    "from sklearn.preprocessing import LabelEncoder\n",
    "from sklearn.model_selection import GridSearchCV\n",
    "from sklearn.ensemble import BaggingClassifier\n",
    "import numpy as np \n",
    "import matplotlib.pyplot as plt \n",
    "from sklearn.tree import plot_tree \n",
    "\n",
    "import warnings\n",
    "warnings.filterwarnings(\"ignore\")"
   ]
  },
  {
   "cell_type": "code",
   "execution_count": 2,
   "metadata": {},
   "outputs": [],
   "source": [
    "train = pd.read_csv(\"train.csv\", index_col=0)\n",
    "test = pd.read_csv(\"test.csv\", index_col=0)"
   ]
  },
  {
   "cell_type": "code",
   "execution_count": 3,
   "metadata": {},
   "outputs": [
    {
     "name": "stdout",
     "output_type": "stream",
     "text": [
      "['C' 'CL' 'D']\n"
     ]
    }
   ],
   "source": [
    "X_train = pd.get_dummies(train.drop('Status', axis=1), \n",
    "                         drop_first=True)\n",
    "le = LabelEncoder()\n",
    "y_train = le.fit_transform(train['Status'])\n",
    "print(le.classes_)"
   ]
  },
  {
   "cell_type": "code",
   "execution_count": 4,
   "metadata": {},
   "outputs": [
    {
     "name": "stdout",
     "output_type": "stream",
     "text": [
      "{'estimator__max_depth': None, 'estimator__min_samples_leaf': 26, 'estimator__min_samples_split': 2}\n",
      "-0.4876000722662841\n"
     ]
    }
   ],
   "source": [
    "dtc = DecisionTreeClassifier(random_state=24)\n",
    "bagg = BaggingClassifier(dtc, random_state=24, n_estimators=30)\n",
    "\n",
    "params = {'estimator__min_samples_split':np.arange(2,35,5),\n",
    "          'estimator__min_samples_leaf':np.arange(1, 35, 5),\n",
    "          'estimator__max_depth':[None, 4, 3, 2]}\n",
    "\n",
    "kfold = StratifiedKFold(n_splits=5, shuffle=True, random_state=24)\n",
    "\n",
    "gcv = GridSearchCV(bagg, param_grid=params, cv=kfold, scoring='neg_log_loss', n_jobs=-1)\n",
    "\n",
    "gcv.fit(X_train, y_train)\n",
    "print(gcv.best_params_)\n",
    "print(gcv.best_score_)"
   ]
  },
  {
   "cell_type": "code",
   "execution_count": 5,
   "metadata": {},
   "outputs": [],
   "source": [
    "### Inferencing\n",
    "best_tree = gcv.best_estimator_\n",
    "dum_tst = pd.get_dummies(test, drop_first=True)\n",
    "y_pred_prob = best_tree.predict_proba(dum_tst)"
   ]
  },
  {
   "cell_type": "code",
   "execution_count": 7,
   "metadata": {},
   "outputs": [
    {
     "name": "stdout",
     "output_type": "stream",
     "text": [
      "[[0.74294564 0.0257691  0.23128526]\n",
      " [0.75037112 0.09631734 0.15331153]\n",
      " [0.08902969 0.09990862 0.81106169]\n",
      " ...\n",
      " [0.88097891 0.02532051 0.09370058]\n",
      " [0.98206032 0.01068063 0.00725905]\n",
      " [0.27471392 0.04763809 0.677648  ]]\n"
     ]
    }
   ],
   "source": [
    "print(y_pred_prob)"
   ]
  },
  {
   "cell_type": "code",
   "execution_count": 6,
   "metadata": {},
   "outputs": [],
   "source": [
    "submit = pd.DataFrame({'id':list(test.index),\n",
    "                       'Status_C':y_pred_prob[:,0],\n",
    "                       'Status_CL':y_pred_prob[:,1],\n",
    "                       'Status_D':y_pred_prob[:,2]})\n",
    "submit.to_csv(\"sbt_dtc.csv\", index=False)"
   ]
  }
 ],
 "metadata": {
  "kernelspec": {
   "display_name": "base",
   "language": "python",
   "name": "python3"
  },
  "language_info": {
   "codemirror_mode": {
    "name": "ipython",
    "version": 3
   },
   "file_extension": ".py",
   "mimetype": "text/x-python",
   "name": "python",
   "nbconvert_exporter": "python",
   "pygments_lexer": "ipython3",
   "version": "3.10.13"
  }
 },
 "nbformat": 4,
 "nbformat_minor": 2
}
