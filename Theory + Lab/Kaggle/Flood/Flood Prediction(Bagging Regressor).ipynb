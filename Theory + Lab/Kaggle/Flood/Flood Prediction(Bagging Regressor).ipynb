{
 "cells": [
  {
   "cell_type": "code",
   "execution_count": 1,
   "metadata": {},
   "outputs": [],
   "source": [
    "import numpy as np\n",
    "import pandas as pd\n",
    "from sklearn.model_selection import train_test_split\n",
    "from sklearn.model_selection import train_test_split\n",
    "from sklearn.metrics import r2_score\n",
    "from sklearn.linear_model import LinearRegression\n",
    "from sklearn.linear_model import Ridge, Lasso, ElasticNet\n",
    "from sklearn.tree import DecisionTreeRegressor\n",
    "from sklearn.ensemble import BaggingRegressor\n",
    "import os\n",
    "\n",
    "import warnings\n",
    "warnings.filterwarnings(\"ignore\")"
   ]
  },
  {
   "cell_type": "code",
   "execution_count": 2,
   "metadata": {},
   "outputs": [
    {
     "name": "stdout",
     "output_type": "stream",
     "text": [
      "0\n",
      "0\n"
     ]
    }
   ],
   "source": [
    "# os.chdir(r\"C:\\Users\\Administrator.DAI-PC2\\Desktop\\CDAC\\Practical Machine Learning\\Kaggle\\Flood Prediction\\Dataset\")\n",
    "\n",
    "train = pd.read_csv(\"train.csv\", index_col=0)\n",
    "print(train.isnull().sum().sum())\n",
    "test = pd.read_csv(\"test.csv\")\n",
    "print(test.isnull().sum().sum())"
   ]
  },
  {
   "cell_type": "code",
   "execution_count": 3,
   "metadata": {},
   "outputs": [],
   "source": [
    "X_train = train.drop('FloodProbability', axis=1)\n",
    "y_train = train['FloodProbability']\n",
    "X_test = test.drop('id', axis=1)"
   ]
  },
  {
   "cell_type": "code",
   "execution_count": 4,
   "metadata": {},
   "outputs": [],
   "source": [
    "# lr = LinearRegression()\n",
    "# bagg = BaggingRegressor(lr,n_estimators=25, n_jobs=-1,random_state=24)\n",
    "\n",
    "# bagg.fit(X_train,y_train)\n",
    "# y_pred = bagg.predict(X_test)\n",
    "\n",
    "el = ElasticNet()\n",
    "bagg = BaggingRegressor(el,n_estimators=25, n_jobs=-1,random_state=24)"
   ]
  },
  {
   "cell_type": "code",
   "execution_count": 5,
   "metadata": {},
   "outputs": [
    {
     "name": "stdout",
     "output_type": "stream",
     "text": [
      "{'bootstrap': True, 'bootstrap_features': False, 'estimator__alpha': 1.0, 'estimator__copy_X': True, 'estimator__fit_intercept': True, 'estimator__l1_ratio': 0.5, 'estimator__max_iter': 1000, 'estimator__positive': False, 'estimator__precompute': False, 'estimator__random_state': None, 'estimator__selection': 'cyclic', 'estimator__tol': 0.0001, 'estimator__warm_start': False, 'estimator': ElasticNet(), 'max_features': 1.0, 'max_samples': 1.0, 'n_estimators': 25, 'n_jobs': -1, 'oob_score': False, 'random_state': 24, 'verbose': 0, 'warm_start': False}\n"
     ]
    }
   ],
   "source": [
    "from sklearn.model_selection import KFold\n",
    "from sklearn.model_selection import GridSearchCV\n",
    "\n",
    "kfold = KFold(n_splits=5,shuffle=True, random_state=24)\n",
    "print(bagg.get_params())\n",
    "\n",
    "params = {'estimator__alpha': np.linspace(0.001,5,5),'estimator__l1_ratio': np.linspace(0,1,4)}\n",
    "# n_jobs = The number of jobs to run in parallel for fit (Will use all CPU Cores; Multiprocessing)\n",
    "gcv = GridSearchCV(bagg, param_grid=params, cv=kfold, n_jobs=-1)\n",
    "gcv.fit(X_train,y_train)\n",
    "\n",
    "best_model = gcv.best_estimator_\n",
    "y_pred = best_model.predict(X_test)"
   ]
  },
  {
   "cell_type": "code",
   "execution_count": null,
   "metadata": {},
   "outputs": [],
   "source": [
    "submit = pd.DataFrame({'id':test['id'],\n",
    "                       'FloodProbability':y_pred})\n",
    "submit.to_csv(\"sbt_bagging_regressor.csv\", index=False)"
   ]
  }
 ],
 "metadata": {
  "kernelspec": {
   "display_name": "base",
   "language": "python",
   "name": "python3"
  },
  "language_info": {
   "codemirror_mode": {
    "name": "ipython",
    "version": 3
   },
   "file_extension": ".py",
   "mimetype": "text/x-python",
   "name": "python",
   "nbconvert_exporter": "python",
   "pygments_lexer": "ipython3",
   "version": "3.10.13"
  }
 },
 "nbformat": 4,
 "nbformat_minor": 2
}
