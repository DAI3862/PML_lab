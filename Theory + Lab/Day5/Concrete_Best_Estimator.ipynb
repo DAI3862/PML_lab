{
 "cells": [
  {
   "cell_type": "code",
   "execution_count": 14,
   "metadata": {},
   "outputs": [],
   "source": [
    "import numpy as np\n",
    "import pandas as pd\n",
    "from sklearn.linear_model import LinearRegression\n",
    "from sklearn.model_selection import train_test_split \n",
    "from sklearn.metrics import r2_score\n",
    "from sklearn.preprocessing import PolynomialFeatures # for polynomial features\n",
    "from sklearn.model_selection import KFold, cross_val_score\n",
    "from sklearn.pipeline import Pipeline\n",
    "\n",
    "from sklearn.linear_model import Ridge, Lasso, ElasticNet\n",
    "from sklearn.model_selection import GridSearchCV\n",
    "import warnings\n",
    "warnings.filterwarnings('ignore')"
   ]
  },
  {
   "cell_type": "code",
   "execution_count": 15,
   "metadata": {},
   "outputs": [],
   "source": [
    "\n",
    "bos = pd.read_csv(r\"..\\Cases\\Concrete Strength\\Concrete_Data.csv\")\n",
    "y = bos['Strength']\n",
    "X = bos.drop('Strength', axis=1)"
   ]
  },
  {
   "cell_type": "code",
   "execution_count": 16,
   "metadata": {},
   "outputs": [],
   "source": [
    "kfold = kfold = KFold(n_splits=5, shuffle=True, random_state=24)"
   ]
  },
  {
   "cell_type": "markdown",
   "metadata": {},
   "source": [
    "## Ridge"
   ]
  },
  {
   "cell_type": "code",
   "execution_count": 17,
   "metadata": {},
   "outputs": [
    {
     "name": "stdout",
     "output_type": "stream",
     "text": [
      "{'memory': None, 'steps': [('POLY', PolynomialFeatures()), ('LR', Ridge())], 'verbose': False, 'POLY': PolynomialFeatures(), 'LR': Ridge(), 'POLY__degree': 2, 'POLY__include_bias': True, 'POLY__interaction_only': False, 'POLY__order': 'C', 'LR__alpha': 1.0, 'LR__copy_X': True, 'LR__fit_intercept': True, 'LR__max_iter': None, 'LR__positive': False, 'LR__random_state': None, 'LR__solver': 'auto', 'LR__tol': 0.0001}\n",
      "0.861858899008506\n",
      "{'LR__alpha': 5.0, 'POLY__degree': 3}\n"
     ]
    }
   ],
   "source": [
    "poly = PolynomialFeatures()\n",
    "ridge = Ridge()\n",
    "\n",
    "pipe = Pipeline([('POLY', poly), ('LR', ridge)])\n",
    "print(pipe.get_params())\n",
    "params = {'POLY__degree':[1,2,3,4,5], \n",
    "          'LR__alpha': np.linspace(0.001,5,10)}\n",
    "gcv_ridge = GridSearchCV(pipe, param_grid=params, cv= kfold)\n",
    "gcv_ridge.fit(X, y)\n",
    "print(gcv_ridge.best_score_)\n",
    "print(gcv_ridge.best_params_)"
   ]
  },
  {
   "cell_type": "code",
   "execution_count": 18,
   "metadata": {},
   "outputs": [
    {
     "name": "stdout",
     "output_type": "stream",
     "text": [
      "{'memory': None, 'steps': [('POLY', PolynomialFeatures()), ('LR', Lasso())], 'verbose': False, 'POLY': PolynomialFeatures(), 'LR': Lasso(), 'POLY__degree': 2, 'POLY__include_bias': True, 'POLY__interaction_only': False, 'POLY__order': 'C', 'LR__alpha': 1.0, 'LR__copy_X': True, 'LR__fit_intercept': True, 'LR__max_iter': 1000, 'LR__positive': False, 'LR__precompute': False, 'LR__random_state': None, 'LR__selection': 'cyclic', 'LR__tol': 0.0001, 'LR__warm_start': False}\n",
      "0.8526437598479253\n",
      "{'LR__alpha': 0.001, 'POLY__degree': 3}\n"
     ]
    }
   ],
   "source": [
    "# LASSO\n",
    "\n",
    "from sklearn.linear_model import Lasso\n",
    "\n",
    "\n",
    "poly = PolynomialFeatures()\n",
    "lasso = Lasso()\n",
    "\n",
    "pipe = Pipeline([('POLY', poly), ('LR', lasso)])\n",
    "print(pipe.get_params())\n",
    "params = {'POLY__degree':[1,2,3], \n",
    "          'LR__alpha': np.linspace(0.001,5,10)}\n",
    "\n",
    "gcv_lasso = GridSearchCV(pipe, param_grid=params, cv= kfold)\n",
    "gcv_lasso.fit(X, y)\n",
    "print(gcv_lasso.best_score_)\n",
    "print(gcv_lasso.best_params_)"
   ]
  },
  {
   "cell_type": "code",
   "execution_count": 19,
   "metadata": {},
   "outputs": [
    {
     "name": "stdout",
     "output_type": "stream",
     "text": [
      "{'memory': None, 'steps': [('POLY', PolynomialFeatures()), ('LR', ElasticNet())], 'verbose': False, 'POLY': PolynomialFeatures(), 'LR': ElasticNet(), 'POLY__degree': 2, 'POLY__include_bias': True, 'POLY__interaction_only': False, 'POLY__order': 'C', 'LR__alpha': 1.0, 'LR__copy_X': True, 'LR__fit_intercept': True, 'LR__l1_ratio': 0.5, 'LR__max_iter': 1000, 'LR__positive': False, 'LR__precompute': False, 'LR__random_state': None, 'LR__selection': 'cyclic', 'LR__tol': 0.0001, 'LR__warm_start': False}\n",
      "0.852994552489777\n",
      "{'LR__alpha': 0.5564444444444444, 'LR__l1_ratio': 0.25, 'POLY__degree': 3}\n"
     ]
    }
   ],
   "source": [
    "from sklearn.linear_model import ElasticNet\n",
    "\n",
    "\n",
    "poly = PolynomialFeatures()\n",
    "elastinet = ElasticNet()\n",
    "\n",
    "pipe = Pipeline([('POLY', poly), ('LR', elastinet)])\n",
    "print(pipe.get_params())\n",
    "params = {'POLY__degree':[1,2,3], \n",
    "          'LR__alpha': np.linspace(0.001,5,10),\n",
    "          'LR__l1_ratio':np.linspace(0,1,5)}\n",
    "gcv_elast = GridSearchCV(pipe, param_grid=params, cv= kfold)\n",
    "gcv_elast.fit(X, y)\n",
    "print(gcv_elast.best_score_)\n",
    "print(gcv_elast.best_params_)"
   ]
  },
  {
   "cell_type": "markdown",
   "metadata": {},
   "source": [
    "Inferencing"
   ]
  },
  {
   "cell_type": "code",
   "execution_count": 22,
   "metadata": {},
   "outputs": [],
   "source": [
    "best_model = gcv_ridge.best_estimator_"
   ]
  },
  {
   "cell_type": "code",
   "execution_count": 20,
   "metadata": {},
   "outputs": [
    {
     "data": {
      "text/html": [
       "<div>\n",
       "<style scoped>\n",
       "    .dataframe tbody tr th:only-of-type {\n",
       "        vertical-align: middle;\n",
       "    }\n",
       "\n",
       "    .dataframe tbody tr th {\n",
       "        vertical-align: top;\n",
       "    }\n",
       "\n",
       "    .dataframe thead th {\n",
       "        text-align: right;\n",
       "    }\n",
       "</style>\n",
       "<table border=\"1\" class=\"dataframe\">\n",
       "  <thead>\n",
       "    <tr style=\"text-align: right;\">\n",
       "      <th></th>\n",
       "      <th>Cement</th>\n",
       "      <th>Blast</th>\n",
       "      <th>Fly</th>\n",
       "      <th>Water</th>\n",
       "      <th>Superplasticizer</th>\n",
       "      <th>Coarse</th>\n",
       "      <th>Fine</th>\n",
       "      <th>Age</th>\n",
       "    </tr>\n",
       "  </thead>\n",
       "  <tbody>\n",
       "    <tr>\n",
       "      <th>0</th>\n",
       "      <td>495</td>\n",
       "      <td>120</td>\n",
       "      <td>0</td>\n",
       "      <td>155</td>\n",
       "      <td>5</td>\n",
       "      <td>866</td>\n",
       "      <td>884</td>\n",
       "      <td>75</td>\n",
       "    </tr>\n",
       "    <tr>\n",
       "      <th>1</th>\n",
       "      <td>262</td>\n",
       "      <td>129</td>\n",
       "      <td>0</td>\n",
       "      <td>271</td>\n",
       "      <td>2</td>\n",
       "      <td>808</td>\n",
       "      <td>787</td>\n",
       "      <td>174</td>\n",
       "    </tr>\n",
       "    <tr>\n",
       "      <th>2</th>\n",
       "      <td>201</td>\n",
       "      <td>48</td>\n",
       "      <td>1</td>\n",
       "      <td>215</td>\n",
       "      <td>5</td>\n",
       "      <td>807</td>\n",
       "      <td>839</td>\n",
       "      <td>113</td>\n",
       "    </tr>\n",
       "    <tr>\n",
       "      <th>3</th>\n",
       "      <td>329</td>\n",
       "      <td>141</td>\n",
       "      <td>0</td>\n",
       "      <td>286</td>\n",
       "      <td>1</td>\n",
       "      <td>881</td>\n",
       "      <td>823</td>\n",
       "      <td>229</td>\n",
       "    </tr>\n",
       "    <tr>\n",
       "      <th>4</th>\n",
       "      <td>354</td>\n",
       "      <td>14</td>\n",
       "      <td>0</td>\n",
       "      <td>129</td>\n",
       "      <td>2</td>\n",
       "      <td>839</td>\n",
       "      <td>847</td>\n",
       "      <td>210</td>\n",
       "    </tr>\n",
       "  </tbody>\n",
       "</table>\n",
       "</div>"
      ],
      "text/plain": [
       "   Cement  Blast  Fly  Water  Superplasticizer  Coarse  Fine  Age\n",
       "0     495    120    0    155                 5     866   884   75\n",
       "1     262    129    0    271                 2     808   787  174\n",
       "2     201     48    1    215                 5     807   839  113\n",
       "3     329    141    0    286                 1     881   823  229\n",
       "4     354     14    0    129                 2     839   847  210"
      ]
     },
     "execution_count": 20,
     "metadata": {},
     "output_type": "execute_result"
    }
   ],
   "source": [
    "# Unlabelled data\n",
    "test_conc = pd.read_csv(r'..\\Cases\\Concrete Strength\\testConcrete.csv') \n",
    "test_conc.head()"
   ]
  },
  {
   "cell_type": "code",
   "execution_count": 23,
   "metadata": {},
   "outputs": [
    {
     "name": "stdout",
     "output_type": "stream",
     "text": [
      "[  63.39445467  -37.86820324   52.3075848  -325.36598316  104.60665732\n",
      "  -42.16309984 -110.17062455  144.5647186   -22.42178978  -16.64449888\n",
      "   66.03425662  238.50640694 -383.84854085   90.48292699]\n"
     ]
    }
   ],
   "source": [
    "pred_strength = best_model.predict(test_conc)\n",
    "print(pred_strength)"
   ]
  },
  {
   "cell_type": "code",
   "execution_count": null,
   "metadata": {},
   "outputs": [],
   "source": []
  }
 ],
 "metadata": {
  "kernelspec": {
   "display_name": "New",
   "language": "python",
   "name": "python3"
  },
  "language_info": {
   "codemirror_mode": {
    "name": "ipython",
    "version": 3
   },
   "file_extension": ".py",
   "mimetype": "text/x-python",
   "name": "python",
   "nbconvert_exporter": "python",
   "pygments_lexer": "ipython3",
   "version": "3.10.13"
  }
 },
 "nbformat": 4,
 "nbformat_minor": 2
}
