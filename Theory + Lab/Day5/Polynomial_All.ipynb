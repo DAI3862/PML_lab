{
 "cells": [
  {
   "cell_type": "code",
   "execution_count": 20,
   "metadata": {},
   "outputs": [],
   "source": [
    "import numpy as np\n",
    "import pandas as pd\n",
    "from sklearn.linear_model import LinearRegression\n",
    "from sklearn.model_selection import train_test_split \n",
    "from sklearn.metrics import r2_score\n",
    "from sklearn.preprocessing import PolynomialFeatures # for polynomial features\n",
    "from sklearn.model_selection import KFold, cross_val_score\n",
    "from sklearn.pipeline import Pipeline\n",
    "import warnings\n",
    "warnings.filterwarnings('ignore')"
   ]
  },
  {
   "cell_type": "code",
   "execution_count": 21,
   "metadata": {},
   "outputs": [],
   "source": [
    "\n",
    "bos = pd.read_csv(r\"..\\Datasets\\Boston.csv\")\n",
    "y = bos['medv']\n",
    "X = bos.drop('medv', axis=1)"
   ]
  },
  {
   "cell_type": "code",
   "execution_count": 22,
   "metadata": {},
   "outputs": [
    {
     "name": "stdout",
     "output_type": "stream",
     "text": [
      "0.7133431144123454\n"
     ]
    }
   ],
   "source": [
    "from sklearn.pipeline import Pipeline\n",
    "\n",
    "\n",
    "X_train, X_test, y_train, y_test = train_test_split(X,y,test_size=0.3,random_state=24)\n",
    "\n",
    "lr = LinearRegression()\n",
    "\n",
    "pipe = Pipeline([('LR', lr)])\n",
    "pipe.fit(X_train, y_train)\n",
    "# poly.fit(X_train)\n",
    "# X_poly_trn = poly.transform(X_train)\n",
    "# lr.fit(X_poly_trn, y_train)\n",
    "\n",
    "y_pred = pipe.predict(X_test)\n",
    "# X_poly_tst = poly.transform(X_test)\n",
    "# lr.predict(X_poly_tst)\n",
    "\n",
    "print(r2_score(y_test, y_pred))\n",
    "\n",
    "# res = cross_val_score(pipe, X, y, cv = kfold)"
   ]
  },
  {
   "cell_type": "code",
   "execution_count": 23,
   "metadata": {},
   "outputs": [
    {
     "name": "stdout",
     "output_type": "stream",
     "text": [
      "0.6881556660859667\n"
     ]
    }
   ],
   "source": [
    "\n",
    "\n",
    "\n",
    "X_train, X_test, y_train, y_test = train_test_split(X,y,test_size=0.3,random_state=24)\n",
    "\n",
    "poly = PolynomialFeatures(degree=2).set_output(transform='pandas')\n",
    "\n",
    "lr = LinearRegression()\n",
    "\n",
    "pipe = Pipeline([('POLY', poly), ('LR', lr)])\n",
    "pipe.fit(X_train, y_train)\n",
    "# poly.fit(X_train)\n",
    "# X_poly_trn = poly.transform(X_train)\n",
    "# lr.fit(X_poly_trn, y_train)\n",
    "\n",
    "y_pred = pipe.predict(X_test)\n",
    "# X_poly_tst = poly.transform(X_test)\n",
    "# lr.predict(X_poly_tst)\n",
    "\n",
    "print(r2_score(y_test, y_pred))\n",
    "\n",
    "kfold = KFold(n_splits=5, shuffle=True, random_state=24)\n",
    "res = cross_val_score(pipe,X,y, cv = kfold)"
   ]
  },
  {
   "cell_type": "code",
   "execution_count": 24,
   "metadata": {},
   "outputs": [
    {
     "name": "stdout",
     "output_type": "stream",
     "text": [
      "-8442.445302259555\n"
     ]
    }
   ],
   "source": [
    "from sklearn.pipeline import Pipeline\n",
    "\n",
    "\n",
    "X_train, X_test, y_train, y_test = train_test_split(X,y,test_size=0.3,random_state=24)\n",
    "\n",
    "poly = PolynomialFeatures(degree=3).set_output(transform='pandas')\n",
    "\n",
    "lr = LinearRegression()\n",
    "\n",
    "pipe = Pipeline([('POLY', poly), ('LR', lr)])\n",
    "pipe.fit(X_train, y_train)\n",
    "# poly.fit(X_train)\n",
    "# X_poly_trn = poly.transform(X_train)\n",
    "# lr.fit(X_poly_trn, y_train)\n",
    "\n",
    "y_pred = pipe.predict(X_test)\n",
    "# X_poly_tst = poly.transform(X_test)\n",
    "# lr.predict(X_poly_tst)\n",
    "\n",
    "print(r2_score(y_test, y_pred))"
   ]
  },
  {
   "cell_type": "code",
   "execution_count": 25,
   "metadata": {},
   "outputs": [
    {
     "name": "stdout",
     "output_type": "stream",
     "text": [
      "-1370.9553199808956\n"
     ]
    }
   ],
   "source": [
    "from sklearn.pipeline import Pipeline\n",
    "\n",
    "\n",
    "X_train, X_test, y_train, y_test = train_test_split(X,y,test_size=0.3,random_state=24)\n",
    "\n",
    "poly = PolynomialFeatures(degree=4).set_output(transform='pandas')\n",
    "\n",
    "lr = LinearRegression()\n",
    "\n",
    "pipe = Pipeline([('POLY', poly), ('LR', lr)])\n",
    "pipe.fit(X_train, y_train)\n",
    "# poly.fit(X_train)\n",
    "# X_poly_trn = poly.transform(X_train)\n",
    "# lr.fit(X_poly_trn, y_train)\n",
    "\n",
    "y_pred = pipe.predict(X_test)\n",
    "# X_poly_tst = poly.transform(X_test)\n",
    "# lr.predict(X_poly_tst)\n",
    "\n",
    "print(r2_score(y_test, y_pred))"
   ]
  },
  {
   "cell_type": "markdown",
   "metadata": {},
   "source": [
    "###########"
   ]
  },
  {
   "cell_type": "code",
   "execution_count": 26,
   "metadata": {},
   "outputs": [
    {
     "name": "stdout",
     "output_type": "stream",
     "text": [
      "Best degree:  1\n",
      "Best Score:  0.713960346536948\n"
     ]
    }
   ],
   "source": [
    "kfold = kfold = KFold(n_splits=5, shuffle=True, random_state=24)\n",
    "\n",
    "degrees = [1,2,3,4,5]\n",
    "lr = LinearRegression()\n",
    "scores = []\n",
    "\n",
    "for i in degrees:\n",
    "    poly = PolynomialFeatures(degree=i)\n",
    "    pipe = pipe = Pipeline([('POLY', poly), ('LR', lr)])\n",
    "    res = cross_val_score(pipe, X, y, cv = kfold)\n",
    "    scores.append(res.mean())\n",
    "\n",
    "i_max = np.argmax(scores)\n",
    "print(\"Best degree: \", degrees[i_max])\n",
    "print(\"Best Score: \", scores[i_max])"
   ]
  },
  {
   "cell_type": "markdown",
   "metadata": {},
   "source": [
    "degree in depend upon the dataset and its nature.\\\n",
    "here the dataset is linear so its degree 1\\\n",
    "if it is quadratic in nature then the degree would be 2\\\n",
    "... Similarly"
   ]
  },
  {
   "cell_type": "code",
   "execution_count": 27,
   "metadata": {},
   "outputs": [
    {
     "data": {
      "text/plain": [
       "[0.713960346536948,\n",
       " 0.6786672922610152,\n",
       " -3414.016057048734,\n",
       " -6311.193149577735,\n",
       " -5738.846659257908]"
      ]
     },
     "execution_count": 27,
     "metadata": {},
     "output_type": "execute_result"
    }
   ],
   "source": [
    "scores"
   ]
  },
  {
   "cell_type": "code",
   "execution_count": 28,
   "metadata": {},
   "outputs": [
    {
     "data": {
      "text/plain": [
       "'1.4.2'"
      ]
     },
     "execution_count": 28,
     "metadata": {},
     "output_type": "execute_result"
    }
   ],
   "source": [
    "import sklearn\n",
    "sklearn.__version__"
   ]
  },
  {
   "cell_type": "markdown",
   "metadata": {},
   "source": [
    "GridSerachCV"
   ]
  },
  {
   "cell_type": "code",
   "execution_count": 29,
   "metadata": {},
   "outputs": [
    {
     "name": "stdout",
     "output_type": "stream",
     "text": [
      "{'memory': None, 'steps': [('POLY', PolynomialFeatures()), ('LR', LinearRegression())], 'verbose': False, 'POLY': PolynomialFeatures(), 'LR': LinearRegression(), 'POLY__degree': 2, 'POLY__include_bias': True, 'POLY__interaction_only': False, 'POLY__order': 'C', 'LR__copy_X': True, 'LR__fit_intercept': True, 'LR__n_jobs': None, 'LR__positive': False}\n",
      "0.713960346536948\n",
      "{'POLY__degree': 1}\n"
     ]
    }
   ],
   "source": [
    "from sklearn.model_selection import GridSearchCV\n",
    "\n",
    "poly = PolynomialFeatures()\n",
    "\n",
    "pipe = pipe = Pipeline([('POLY', poly), ('LR', lr)])\n",
    "print(pipe.get_params())\n",
    "params = {'POLY__degree':[1,2,3,4,5]}\n",
    "gcv = GridSearchCV(pipe, param_grid=params, cv= kfold)\n",
    "gcv.fit(X, y)\n",
    "print(gcv.best_score_)\n",
    "print(gcv.best_params_)"
   ]
  },
  {
   "cell_type": "code",
   "execution_count": 30,
   "metadata": {},
   "outputs": [
    {
     "name": "stdout",
     "output_type": "stream",
     "text": [
      "{'memory': None, 'steps': [('POLY', PolynomialFeatures()), ('RIDGE', Ridge())], 'verbose': False, 'POLY': PolynomialFeatures(), 'RIDGE': Ridge(), 'POLY__degree': 2, 'POLY__include_bias': True, 'POLY__interaction_only': False, 'POLY__order': 'C', 'RIDGE__alpha': 1.0, 'RIDGE__copy_X': True, 'RIDGE__fit_intercept': True, 'RIDGE__max_iter': None, 'RIDGE__positive': False, 'RIDGE__random_state': None, 'RIDGE__solver': 'auto', 'RIDGE__tol': 0.0001}\n",
      "0.7992927372824928\n",
      "{'POLY__degree': 2}\n"
     ]
    }
   ],
   "source": [
    "\n",
    "from sklearn.linear_model import Ridge\n",
    "\n",
    "\n",
    "poly = PolynomialFeatures()\n",
    "ridge = Ridge()\n",
    "\n",
    "pipe = pipe = Pipeline([('POLY', poly), ('RIDGE', ridge)])\n",
    "print(pipe.get_params())\n",
    "params = {'POLY__degree':[1,2,3,4,5]}\n",
    "gcv = GridSearchCV(pipe, param_grid=params, cv= kfold)\n",
    "gcv.fit(X, y)\n",
    "print(gcv.best_score_)\n",
    "print(gcv.best_params_)"
   ]
  },
  {
   "cell_type": "markdown",
   "metadata": {},
   "source": [
    "## Ridge"
   ]
  },
  {
   "cell_type": "code",
   "execution_count": 31,
   "metadata": {},
   "outputs": [
    {
     "name": "stdout",
     "output_type": "stream",
     "text": [
      "{'memory': None, 'steps': [('POLY', PolynomialFeatures()), ('LR', Ridge())], 'verbose': False, 'POLY': PolynomialFeatures(), 'LR': Ridge(), 'POLY__degree': 2, 'POLY__include_bias': True, 'POLY__interaction_only': False, 'POLY__order': 'C', 'LR__alpha': 1.0, 'LR__copy_X': True, 'LR__fit_intercept': True, 'LR__max_iter': None, 'LR__positive': False, 'LR__random_state': None, 'LR__solver': 'auto', 'LR__tol': 0.0001}\n",
      "0.8023916129596971\n",
      "{'LR__alpha': 5.0, 'POLY__degree': 2}\n"
     ]
    }
   ],
   "source": [
    "poly = PolynomialFeatures()\n",
    "ridge = Ridge()\n",
    "\n",
    "pipe = pipe = Pipeline([('POLY', poly), ('LR', ridge)])\n",
    "print(pipe.get_params())\n",
    "params = {'POLY__degree':[1,2,3,4,5], \n",
    "          'LR__alpha': np.linspace(0.001,5,10)}\n",
    "gcv = GridSearchCV(pipe, param_grid=params, cv= kfold)\n",
    "gcv.fit(X, y)\n",
    "print(gcv.best_score_)\n",
    "print(gcv.best_params_)"
   ]
  },
  {
   "cell_type": "code",
   "execution_count": 34,
   "metadata": {},
   "outputs": [
    {
     "name": "stdout",
     "output_type": "stream",
     "text": [
      "{'memory': None, 'steps': [('POLY', PolynomialFeatures()), ('LR', Lasso())], 'verbose': False, 'POLY': PolynomialFeatures(), 'LR': Lasso(), 'POLY__degree': 2, 'POLY__include_bias': True, 'POLY__interaction_only': False, 'POLY__order': 'C', 'LR__alpha': 1.0, 'LR__copy_X': True, 'LR__fit_intercept': True, 'LR__max_iter': 1000, 'LR__positive': False, 'LR__precompute': False, 'LR__random_state': None, 'LR__selection': 'cyclic', 'LR__tol': 0.0001, 'LR__warm_start': False}\n",
      "0.8304349679612066\n",
      "{'LR__alpha': 0.5564444444444444, 'POLY__degree': 2}\n"
     ]
    }
   ],
   "source": [
    "# LASSO\n",
    "\n",
    "from sklearn.linear_model import Lasso\n",
    "\n",
    "\n",
    "poly = PolynomialFeatures()\n",
    "lasso = Lasso()\n",
    "\n",
    "pipe = pipe = Pipeline([('POLY', poly), ('LR', lasso)])\n",
    "print(pipe.get_params())\n",
    "params = {'POLY__degree':[1,2,3], \n",
    "          'LR__alpha': np.linspace(0.001,5,10)}\n",
    "\n",
    "gcv = GridSearchCV(pipe, param_grid=params, cv= kfold)\n",
    "gcv.fit(X, y)\n",
    "print(gcv.best_score_)\n",
    "print(gcv.best_params_)"
   ]
  },
  {
   "cell_type": "code",
   "execution_count": 35,
   "metadata": {},
   "outputs": [
    {
     "name": "stdout",
     "output_type": "stream",
     "text": [
      "{'memory': None, 'steps': [('POLY', PolynomialFeatures()), ('LR', ElasticNet())], 'verbose': False, 'POLY': PolynomialFeatures(), 'LR': ElasticNet(), 'POLY__degree': 2, 'POLY__include_bias': True, 'POLY__interaction_only': False, 'POLY__order': 'C', 'LR__alpha': 1.0, 'LR__copy_X': True, 'LR__fit_intercept': True, 'LR__l1_ratio': 0.5, 'LR__max_iter': 1000, 'LR__positive': False, 'LR__precompute': False, 'LR__random_state': None, 'LR__selection': 'cyclic', 'LR__tol': 0.0001, 'LR__warm_start': False}\n",
      "0.8304349679612066\n",
      "{'LR__alpha': 0.5564444444444444, 'LR__l1_ratio': 1.0, 'POLY__degree': 2}\n"
     ]
    }
   ],
   "source": [
    "from sklearn.linear_model import ElasticNet\n",
    "\n",
    "\n",
    "poly = PolynomialFeatures()\n",
    "elastinet = ElasticNet()\n",
    "\n",
    "pipe = pipe = Pipeline([('POLY', poly), ('LR', elastinet)])\n",
    "print(pipe.get_params())\n",
    "params = {'POLY__degree':[1,2,3], \n",
    "          'LR__alpha': np.linspace(0.001,5,10),\n",
    "          'LR__l1_ratio':np.linspace(0,1,5)}\n",
    "gcv = GridSearchCV(pipe, param_grid=params, cv= kfold)\n",
    "gcv.fit(X, y)\n",
    "print(gcv.best_score_)\n",
    "print(gcv.best_params_)"
   ]
  },
  {
   "cell_type": "code",
   "execution_count": 38,
   "metadata": {},
   "outputs": [
    {
     "name": "stdout",
     "output_type": "stream",
     "text": [
      "{'memory': None, 'steps': [('POLY', PolynomialFeatures()), ('LR', Lasso())], 'verbose': False, 'POLY': PolynomialFeatures(), 'LR': Lasso(), 'POLY__degree': 2, 'POLY__include_bias': True, 'POLY__interaction_only': False, 'POLY__order': 'C', 'LR__alpha': 1.0, 'LR__copy_X': True, 'LR__fit_intercept': True, 'LR__max_iter': 1000, 'LR__positive': False, 'LR__precompute': False, 'LR__random_state': None, 'LR__selection': 'cyclic', 'LR__tol': 0.0001, 'LR__warm_start': False}\n",
      "0.8304349679612066\n",
      "{'LR__alpha': 0.5564444444444444, 'POLY__degree': 2}\n",
      "[ 0.00000000e+00  0.00000000e+00 -0.00000000e+00  0.00000000e+00\n",
      " -0.00000000e+00  0.00000000e+00  0.00000000e+00  0.00000000e+00\n",
      " -0.00000000e+00  0.00000000e+00  1.25224112e-02 -0.00000000e+00\n",
      "  3.18329600e-02  0.00000000e+00  2.28461895e-03  0.00000000e+00\n",
      "  4.35583956e-03  0.00000000e+00 -0.00000000e+00  0.00000000e+00\n",
      " -5.09157403e-03 -0.00000000e+00 -2.14909992e-02  8.09653573e-04\n",
      "  0.00000000e+00 -3.68797011e-05  3.56876525e-03  3.46658749e-04\n",
      " -1.66277236e-03  0.00000000e+00 -0.00000000e+00  3.19515481e-02\n",
      "  2.71277353e-04 -7.35026224e-03 -4.29626946e-03  4.95498608e-04\n",
      "  0.00000000e+00 -7.51845094e-04 -4.86828284e-03  1.48769015e-02\n",
      " -0.00000000e+00  0.00000000e+00  0.00000000e+00  5.09573569e-03\n",
      " -0.00000000e+00 -6.04786662e-02  1.03949249e-03 -4.89572743e-02\n",
      "  9.23403849e-04 -2.67177517e-02 -0.00000000e+00 -0.00000000e+00\n",
      " -0.00000000e+00 -0.00000000e+00 -0.00000000e+00  0.00000000e+00\n",
      "  5.23506919e-03  0.00000000e+00 -1.01940338e-03 -0.00000000e+00\n",
      "  0.00000000e+00  0.00000000e+00  0.00000000e+00  0.00000000e+00\n",
      " -0.00000000e+00 -3.70408516e-02 -0.00000000e+00  0.00000000e+00\n",
      "  0.00000000e+00  4.50541573e-01  1.41197476e-02  0.00000000e+00\n",
      " -1.34781540e-01 -9.59116969e-03 -0.00000000e+00  8.66142388e-03\n",
      " -1.68558369e-02  4.79776883e-05  6.92581345e-03  2.05130760e-03\n",
      "  1.11895041e-04 -1.65631172e-03 -5.20617114e-04 -2.42979033e-03\n",
      "  1.79006363e-01 -0.00000000e+00 -2.54826261e-03  0.00000000e+00\n",
      " -6.53328942e-03  0.00000000e+00 -2.25278990e-03  2.14487622e-03\n",
      "  6.19444327e-02 -1.92772363e-04 -2.09420115e-02 -4.62864443e-05\n",
      "  4.55993753e-03 -2.67465021e-05 -9.09754072e-04 -5.33425660e-02\n",
      " -3.10580959e-05  2.24919008e-03 -1.84456326e-05 -3.39467701e-04\n",
      "  2.92826985e-02]\n"
     ]
    }
   ],
   "source": [
    "from sklearn.linear_model import Lasso\n",
    "\n",
    "\n",
    "poly = PolynomialFeatures()\n",
    "lasso = Lasso()\n",
    "\n",
    "pipe = pipe = Pipeline([('POLY', poly), ('LR', lasso)])\n",
    "print(pipe.get_params())\n",
    "params = {'POLY__degree':[1,2,3], \n",
    "          'LR__alpha': np.linspace(0.001,5,10)}\n",
    "\n",
    "gcv = GridSearchCV(pipe, param_grid=params, cv= kfold)\n",
    "gcv.fit(X, y)\n",
    "print(gcv.best_score_)\n",
    "print(gcv.best_params_)\n",
    "\n",
    "print(gcv.best_estimator_.named_steps.LR.coef_)"
   ]
  }
 ],
 "metadata": {
  "kernelspec": {
   "display_name": "New",
   "language": "python",
   "name": "python3"
  },
  "language_info": {
   "codemirror_mode": {
    "name": "ipython",
    "version": 3
   },
   "file_extension": ".py",
   "mimetype": "text/x-python",
   "name": "python",
   "nbconvert_exporter": "python",
   "pygments_lexer": "ipython3",
   "version": "3.10.13"
  }
 },
 "nbformat": 4,
 "nbformat_minor": 2
}
