{
 "cells": [
  {
   "cell_type": "code",
   "execution_count": 1,
   "metadata": {},
   "outputs": [],
   "source": [
    "from sklearn.preprocessing import StandardScaler, MinMaxScaler\n",
    "import pandas as pd\n",
    "import numpy as np"
   ]
  },
  {
   "cell_type": "code",
   "execution_count": 2,
   "metadata": {},
   "outputs": [
    {
     "name": "stdout",
     "output_type": "stream",
     "text": [
      "[10.   0.3]\n",
      "[0.81649658 0.28284271]\n"
     ]
    }
   ],
   "source": [
    "a = pd.DataFrame({'x1':[10,9,11],\n",
    "                  'x2':[0.1,0.7,0.1]})\n",
    "\n",
    "std_sca = StandardScaler()\n",
    "\n",
    "std_sca.fit(a)\n",
    "\n",
    "print(std_sca.mean_) # mean\n",
    "print(std_sca.scale_) # Std devia"
   ]
  },
  {
   "cell_type": "code",
   "execution_count": 3,
   "metadata": {},
   "outputs": [
    {
     "name": "stdout",
     "output_type": "stream",
     "text": [
      "[[ 0.         -0.70710678]\n",
      " [-1.22474487  1.41421356]\n",
      " [ 1.22474487 -0.70710678]]\n"
     ]
    }
   ],
   "source": [
    "print(std_sca.transform(a))"
   ]
  },
  {
   "cell_type": "code",
   "execution_count": 5,
   "metadata": {},
   "outputs": [
    {
     "name": "stdout",
     "output_type": "stream",
     "text": [
      "[9.  0.1]\n",
      "[11.   0.7]\n",
      "[[0.5 0. ]\n",
      " [0.  1. ]\n",
      " [1.  0. ]]\n"
     ]
    }
   ],
   "source": [
    "scl_mm = MinMaxScaler()\n",
    "scl_mm.fit(a)\n",
    "\n",
    "print(scl_mm.data_min_)\n",
    "print(scl_mm.data_max_)\n",
    "\n",
    "print(scl_mm.transform(a))"
   ]
  }
 ],
 "metadata": {
  "kernelspec": {
   "display_name": "New",
   "language": "python",
   "name": "python3"
  },
  "language_info": {
   "codemirror_mode": {
    "name": "ipython",
    "version": 3
   },
   "file_extension": ".py",
   "mimetype": "text/x-python",
   "name": "python",
   "nbconvert_exporter": "python",
   "pygments_lexer": "ipython3",
   "version": "3.10.13"
  }
 },
 "nbformat": 4,
 "nbformat_minor": 2
}
