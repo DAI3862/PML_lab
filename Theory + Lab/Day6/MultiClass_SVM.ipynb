{
 "cells": [
  {
   "cell_type": "code",
   "execution_count": 1,
   "metadata": {},
   "outputs": [],
   "source": [
    "from sklearn.preprocessing import StandardScaler, MinMaxScaler\n",
    "import numpy as np\n",
    "import pandas as pd\n",
    "from sklearn.linear_model import LinearRegression\n",
    "from sklearn.model_selection import train_test_split \n",
    "from sklearn.metrics import r2_score\n",
    "from sklearn.preprocessing import PolynomialFeatures # for polynomial features\n",
    "from sklearn.model_selection import KFold, cross_val_score\n",
    "from sklearn.pipeline import Pipeline\n",
    "from sklearn.model_selection import GridSearchCV\n",
    "from sklearn.preprocessing import LabelEncoder\n"
   ]
  },
  {
   "cell_type": "code",
   "execution_count": 2,
   "metadata": {},
   "outputs": [],
   "source": [
    "df = pd.read_csv(r\"..\\Cases\\Glass Identification\\Glass.csv\")\n",
    "le = LabelEncoder()\n",
    "y = le.fit_transform(df['Type'])\n",
    "X = df.drop('Type', axis=1)"
   ]
  },
  {
   "cell_type": "code",
   "execution_count": 3,
   "metadata": {},
   "outputs": [],
   "source": [
    "X_train, X_test, y_train, y_test = train_test_split(X,y,test_size=0.3,random_state=24, stratify=y)"
   ]
  },
  {
   "cell_type": "code",
   "execution_count": 4,
   "metadata": {},
   "outputs": [],
   "source": [
    "from sklearn.svm import SVC\n",
    "\n",
    "svc_ovo = SVC(C=0.5, kernel='linear', decision_function_shape='ovo')\n",
    "\n",
    "svc_ovo.fit(X_train, y_train)\n",
    "y_pred = svc_ovo.predict(X_test)"
   ]
  },
  {
   "cell_type": "code",
   "execution_count": 5,
   "metadata": {},
   "outputs": [
    {
     "name": "stdout",
     "output_type": "stream",
     "text": [
      "0.5384615384615384\n"
     ]
    }
   ],
   "source": [
    "from sklearn.metrics import accuracy_score\n",
    "from sklearn.metrics import log_loss, roc_auc_score\n",
    "\n",
    "print(accuracy_score(y_test, y_pred))"
   ]
  },
  {
   "cell_type": "code",
   "execution_count": 13,
   "metadata": {},
   "outputs": [
    {
     "name": "stdout",
     "output_type": "stream",
     "text": [
      "{'memory': None, 'steps': [('SCL', None), ('SVC', SVC(kernel='linear', probability=True, random_state=24))], 'verbose': False, 'SCL': None, 'SVC': SVC(kernel='linear', probability=True, random_state=24), 'SVC__C': 1.0, 'SVC__break_ties': False, 'SVC__cache_size': 200, 'SVC__class_weight': None, 'SVC__coef0': 0.0, 'SVC__decision_function_shape': 'ovr', 'SVC__degree': 3, 'SVC__gamma': 'scale', 'SVC__kernel': 'linear', 'SVC__max_iter': -1, 'SVC__probability': True, 'SVC__random_state': 24, 'SVC__shrinking': True, 'SVC__tol': 0.001, 'SVC__verbose': False}\n",
      "{'SCL': None, 'SVC__C': 0.6905172413793103, 'SVC__decision_function_shape': 'ovo'}\n",
      "-0.9318622677520683\n"
     ]
    }
   ],
   "source": [
    "import warnings\n",
    "warnings.filterwarnings('ignore')\n",
    "from sklearn.model_selection import StratifiedKFold\n",
    "import numpy as np\n",
    "\n",
    "kfold = StratifiedKFold(shuffle=True, random_state=24, n_splits=5)\n",
    "\n",
    "std_scaler = StandardScaler()\n",
    "mm_scaler = MinMaxScaler()\n",
    "svc = SVC( kernel='linear', probability=True, random_state=24)\n",
    "\n",
    "pipe = Pipeline([('SCL', None), ('SVC', svc)])\n",
    "\n",
    "print(pipe.get_params())\n",
    "params = {\n",
    "    'SVC__C': np.linspace(0.001, 5, 30),\n",
    "          'SCL': [None, std_scaler, mm_scaler],\n",
    "          'SVC__decision_function_shape':['ovo', 'ovr'],\n",
    "          }\n",
    "\n",
    "gcv = GridSearchCV(pipe, param_grid=params, cv=kfold,\n",
    "                    scoring='neg_log_loss'\n",
    "                    )\n",
    "\n",
    "gcv.fit(X, y)\n",
    "\n",
    "print(gcv.best_params_)\n",
    "print(gcv.best_score_)"
   ]
  },
  {
   "cell_type": "code",
   "execution_count": 16,
   "metadata": {},
   "outputs": [
    {
     "name": "stdout",
     "output_type": "stream",
     "text": [
      "{'memory': None, 'steps': [('SCL', None), ('SVC', SVC(kernel='poly', probability=True, random_state=24))], 'verbose': False, 'SCL': None, 'SVC': SVC(kernel='poly', probability=True, random_state=24), 'SVC__C': 1.0, 'SVC__break_ties': False, 'SVC__cache_size': 200, 'SVC__class_weight': None, 'SVC__coef0': 0.0, 'SVC__decision_function_shape': 'ovr', 'SVC__degree': 3, 'SVC__gamma': 'scale', 'SVC__kernel': 'poly', 'SVC__max_iter': -1, 'SVC__probability': True, 'SVC__random_state': 24, 'SVC__shrinking': True, 'SVC__tol': 0.001, 'SVC__verbose': False}\n",
      "{'SCL': StandardScaler(), 'SVC__C': 0.26410526315789473, 'SVC__coef0': 3.0, 'SVC__decision_function_shape': 'ovr', 'SVC__degree': 3}\n",
      "-0.8912631607153946\n"
     ]
    }
   ],
   "source": [
    "kfold = StratifiedKFold(shuffle=True, random_state=24, n_splits=5)\n",
    "\n",
    "std_scaler = StandardScaler()\n",
    "mm_scaler = MinMaxScaler()\n",
    "svc = SVC( kernel='poly', probability=True, random_state=24)\n",
    "\n",
    "pipe = Pipeline([('SCL', None), ('SVC', svc)])\n",
    "\n",
    "print(pipe.get_params())\n",
    "params = {\n",
    "    'SVC__C': np.linspace(0.001, 5, 20),\n",
    "          'SCL': [None, std_scaler, mm_scaler],\n",
    "          'SVC__degree':[2,3],\n",
    "          'SVC__coef0':np.linspace(0,3,5),\n",
    "          'SVC__decision_function_shape':['ovr','ovo']\n",
    "          }\n",
    "\n",
    "gcv = GridSearchCV(pipe, param_grid=params, cv=kfold,\n",
    "                    scoring='neg_log_loss'\n",
    "                    )\n",
    "\n",
    "gcv.fit(X, y)\n",
    "\n",
    "print(gcv.best_params_)\n",
    "print(gcv.best_score_)"
   ]
  },
  {
   "cell_type": "code",
   "execution_count": 19,
   "metadata": {},
   "outputs": [
    {
     "name": "stdout",
     "output_type": "stream",
     "text": [
      "{'memory': None, 'steps': [('SCL', None), ('SVC', SVC(probability=True, random_state=24))], 'verbose': False, 'SCL': None, 'SVC': SVC(probability=True, random_state=24), 'SVC__C': 1.0, 'SVC__break_ties': False, 'SVC__cache_size': 200, 'SVC__class_weight': None, 'SVC__coef0': 0.0, 'SVC__decision_function_shape': 'ovr', 'SVC__degree': 3, 'SVC__gamma': 'scale', 'SVC__kernel': 'rbf', 'SVC__max_iter': -1, 'SVC__probability': True, 'SVC__random_state': 24, 'SVC__shrinking': True, 'SVC__tol': 0.001, 'SVC__verbose': False}\n",
      "{'SCL': None, 'SVC__C': 1.5796315789473683, 'SVC__decision_function_shape': 'ovr', 'SVC__gamma': 1.2507499999999998}\n",
      "-0.793728469951138\n"
     ]
    }
   ],
   "source": [
    "kfold = StratifiedKFold(shuffle=True, random_state=24, n_splits=5)\n",
    "\n",
    "std_scaler = StandardScaler()\n",
    "mm_scaler = MinMaxScaler()\n",
    "svc = SVC( kernel='rbf', probability=True, random_state=24)\n",
    "\n",
    "pipe = Pipeline([('SCL', None), ('SVC', svc)])\n",
    "\n",
    "print(pipe.get_params())\n",
    "params = {\n",
    "    'SVC__C': np.linspace(0.001, 5, 20),\n",
    "          'SCL': [None, std_scaler, mm_scaler],\n",
    "          'SVC__gamma':np.linspace(0.001,5,5),\n",
    "           'SVC__decision_function_shape':['ovr','ovo']\n",
    "          }\n",
    "\n",
    "kfold = StratifiedKFold(n_splits=5, shuffle=True, random_state=24)\n",
    "\n",
    "gcv = GridSearchCV(pipe, param_grid=params, cv=kfold,\n",
    "                    scoring='neg_log_loss'\n",
    "                    )\n",
    "\n",
    "gcv.fit(X, y)\n",
    "pd_cv = pd.DataFrame(gcv.cv_results_)\n",
    "print(gcv.best_params_)\n",
    "print(gcv.best_score_)"
   ]
  },
  {
   "cell_type": "code",
   "execution_count": 20,
   "metadata": {},
   "outputs": [
    {
     "name": "stdout",
     "output_type": "stream",
     "text": [
      "{'memory': None, 'steps': [('SCL', None), ('SVC', SVC(kernel='sigmoid', probability=True, random_state=24))], 'verbose': False, 'SCL': None, 'SVC': SVC(kernel='sigmoid', probability=True, random_state=24), 'SVC__C': 1.0, 'SVC__break_ties': False, 'SVC__cache_size': 200, 'SVC__class_weight': None, 'SVC__coef0': 0.0, 'SVC__decision_function_shape': 'ovr', 'SVC__degree': 3, 'SVC__gamma': 'scale', 'SVC__kernel': 'sigmoid', 'SVC__max_iter': -1, 'SVC__probability': True, 'SVC__random_state': 24, 'SVC__shrinking': True, 'SVC__tol': 0.001, 'SVC__verbose': False}\n",
      "{'SCL': StandardScaler(), 'SVC__C': 1.5796315789473683, 'SVC__coef0': 0.0, 'SVC__decision_function_shape': 'ovr', 'SVC__gamma': 0.001}\n",
      "-1.0358929844317568\n"
     ]
    }
   ],
   "source": [
    "kfold = StratifiedKFold(shuffle=True, random_state=24, n_splits=5)\n",
    "\n",
    "std_scaler = StandardScaler()\n",
    "mm_scaler = MinMaxScaler()\n",
    "svc = SVC( kernel='sigmoid', probability=True, random_state=24)\n",
    "\n",
    "pipe = Pipeline([('SCL', None), ('SVC', svc)])\n",
    "\n",
    "print(pipe.get_params())\n",
    "params = {\n",
    "    'SVC__C': np.linspace(0.001, 5, 20),\n",
    "          'SCL': [None, std_scaler, mm_scaler],\n",
    "          'SVC__gamma':np.linspace(0.001,5,5),\n",
    "          'SVC__coef0':np.linspace(0,3,5),\n",
    "           'SVC__decision_function_shape':['ovr','ovo']\n",
    "          }\n",
    "\n",
    "kfold = StratifiedKFold(n_splits=5, shuffle=True, random_state=24)\n",
    "\n",
    "gcv = GridSearchCV(pipe, param_grid=params, cv=kfold,\n",
    "                    scoring='neg_log_loss'\n",
    "                    )\n",
    "\n",
    "gcv.fit(X, y)\n",
    "pd_cv = pd.DataFrame(gcv.cv_results_)\n",
    "print(gcv.best_params_)\n",
    "print(gcv.best_score_)"
   ]
  }
 ],
 "metadata": {
  "kernelspec": {
   "display_name": "New",
   "language": "python",
   "name": "python3"
  },
  "language_info": {
   "codemirror_mode": {
    "name": "ipython",
    "version": 3
   },
   "file_extension": ".py",
   "mimetype": "text/x-python",
   "name": "python",
   "nbconvert_exporter": "python",
   "pygments_lexer": "ipython3",
   "version": "3.10.13"
  }
 },
 "nbformat": 4,
 "nbformat_minor": 2
}
