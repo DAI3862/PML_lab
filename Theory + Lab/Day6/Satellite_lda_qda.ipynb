{
 "cells": [
  {
   "cell_type": "code",
   "execution_count": 10,
   "metadata": {},
   "outputs": [],
   "source": [
    "import pandas as pd\n",
    "from sklearn.model_selection import train_test_split \n",
    "from sklearn.metrics import confusion_matrix, classification_report\n",
    "from sklearn.metrics import accuracy_score, log_loss\n",
    "from sklearn.discriminant_analysis import LinearDiscriminantAnalysis, QuadraticDiscriminantAnalysis\n",
    "from sklearn.preprocessing import LabelEncoder"
   ]
  },
  {
   "cell_type": "code",
   "execution_count": 11,
   "metadata": {},
   "outputs": [
    {
     "name": "stdout",
     "output_type": "stream",
     "text": [
      "['cotton crop' 'damp grey soil' 'grey soil' 'red soil'\n",
      " 'vegetation stubble' 'very damp grey soil']\n"
     ]
    }
   ],
   "source": [
    "df = pd.read_csv(r\"..\\Cases\\Satellite Imaging\\Satellite.csv\",sep=\";\")\n",
    "le = LabelEncoder()\n",
    "y = le.fit_transform(df['classes'])\n",
    "X = df.drop('classes', axis=1)\n",
    "print(le.classes_)"
   ]
  },
  {
   "cell_type": "code",
   "execution_count": 12,
   "metadata": {},
   "outputs": [],
   "source": [
    "X_train, X_test, y_train, y_test = train_test_split(X,y,test_size=0.3,random_state=24,stratify=y)"
   ]
  },
  {
   "cell_type": "code",
   "execution_count": 13,
   "metadata": {},
   "outputs": [],
   "source": [
    "lda = LinearDiscriminantAnalysis()\n",
    "qda = QuadraticDiscriminantAnalysis()"
   ]
  },
  {
   "cell_type": "code",
   "execution_count": 14,
   "metadata": {},
   "outputs": [
    {
     "name": "stdout",
     "output_type": "stream",
     "text": [
      "0.8296219575349559\n",
      "0.5367082791863953\n"
     ]
    }
   ],
   "source": [
    "lda.fit(X_train, y_train)\n",
    "y_pred = lda.predict(X_test)\n",
    "print(accuracy_score(y_test, y_pred))\n",
    "y_pred_prob = lda.predict_proba(X_test)\n",
    "\n",
    "print(log_loss(y_test, y_pred_prob))"
   ]
  },
  {
   "cell_type": "code",
   "execution_count": 15,
   "metadata": {},
   "outputs": [
    {
     "name": "stdout",
     "output_type": "stream",
     "text": [
      "0.8508544795442776\n",
      "0.9634636510805077\n"
     ]
    }
   ],
   "source": [
    "qda.fit(X_train, y_train)\n",
    "y_pred = qda.predict(X_test)\n",
    "print(accuracy_score(y_test, y_pred))\n",
    "y_pred_prob = qda.predict_proba(X_test)\n",
    "\n",
    "print(log_loss(y_test, y_pred_prob))"
   ]
  },
  {
   "cell_type": "code",
   "execution_count": 16,
   "metadata": {},
   "outputs": [
    {
     "name": "stdout",
     "output_type": "stream",
     "text": [
      "-0.5976798676874002\n"
     ]
    }
   ],
   "source": [
    "from sklearn.model_selection import StratifiedKFold, cross_val_score\n",
    "\n",
    "\n",
    "kfold = StratifiedKFold(n_splits=5, shuffle=True, random_state=24)\n",
    "\n",
    "results = cross_val_score(lda, X, y, scoring='neg_log_loss', cv=kfold)\n",
    "print(results.mean())"
   ]
  },
  {
   "cell_type": "code",
   "execution_count": 17,
   "metadata": {},
   "outputs": [
    {
     "name": "stdout",
     "output_type": "stream",
     "text": [
      "-0.9230942898246248\n"
     ]
    }
   ],
   "source": [
    "kfold = StratifiedKFold(n_splits=5, shuffle=True, random_state=24)\n",
    "\n",
    "results = cross_val_score(qda, X, y, scoring='neg_log_loss', cv=kfold)\n",
    "print(results.mean())"
   ]
  },
  {
   "cell_type": "markdown",
   "metadata": {},
   "source": [
    "Accuracy of qda is better than lda, but log loss is more in qda. So, what should be determined? \n",
    "QDA"
   ]
  }
 ],
 "metadata": {
  "kernelspec": {
   "display_name": "New",
   "language": "python",
   "name": "python3"
  },
  "language_info": {
   "codemirror_mode": {
    "name": "ipython",
    "version": 3
   },
   "file_extension": ".py",
   "mimetype": "text/x-python",
   "name": "python",
   "nbconvert_exporter": "python",
   "pygments_lexer": "ipython3",
   "version": "3.10.13"
  }
 },
 "nbformat": 4,
 "nbformat_minor": 2
}
