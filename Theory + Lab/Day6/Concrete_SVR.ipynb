{
 "cells": [
  {
   "cell_type": "code",
   "execution_count": 1,
   "metadata": {},
   "outputs": [],
   "source": [
    "from sklearn.preprocessing import StandardScaler, MinMaxScaler\n",
    "import numpy as np\n",
    "import pandas as pd\n",
    "from sklearn.linear_model import LinearRegression\n",
    "from sklearn.model_selection import train_test_split \n",
    "from sklearn.metrics import r2_score\n",
    "from sklearn.preprocessing import PolynomialFeatures # for polynomial features\n",
    "from sklearn.model_selection import KFold, cross_val_score\n",
    "from sklearn.pipeline import Pipeline\n",
    "from sklearn.neighbors import NearestNeighbors, KNeighborsClassifier\n",
    "from sklearn.linear_model import Ridge, Lasso, ElasticNet\n",
    "from sklearn.model_selection import GridSearchCV\n",
    "from sklearn.svm import SVR\n",
    "import warnings\n",
    "warnings.filterwarnings('ignore')"
   ]
  },
  {
   "cell_type": "code",
   "execution_count": 2,
   "metadata": {},
   "outputs": [],
   "source": [
    "conc = pd.read_csv(r\"..\\Cases\\Concrete Strength\\Concrete_Data.csv\")\n",
    "y = conc['Strength']\n",
    "X = conc.drop('Strength', axis=1)"
   ]
  },
  {
   "cell_type": "code",
   "execution_count": 3,
   "metadata": {},
   "outputs": [],
   "source": [
    "X_train, X_test, y_train, y_test = train_test_split(X,y,test_size=0.3,random_state=24)"
   ]
  },
  {
   "cell_type": "code",
   "execution_count": 6,
   "metadata": {},
   "outputs": [
    {
     "name": "stdout",
     "output_type": "stream",
     "text": [
      "{'memory': None, 'steps': [('SCL', None), ('SVR', SVR(kernel='linear'))], 'verbose': False, 'SCL': None, 'SVR': SVR(kernel='linear'), 'SVR__C': 1.0, 'SVR__cache_size': 200, 'SVR__coef0': 0.0, 'SVR__degree': 3, 'SVR__epsilon': 0.1, 'SVR__gamma': 'scale', 'SVR__kernel': 'linear', 'SVR__max_iter': -1, 'SVR__shrinking': True, 'SVR__tol': 0.001, 'SVR__verbose': False}\n",
      "{'SCL': MinMaxScaler(), 'SVR__C': 5.0, 'SVR__epsilon': 5.0}\n",
      "0.6020035764986879\n"
     ]
    }
   ],
   "source": [
    "from sklearn.model_selection import KFold\n",
    "\n",
    "\n",
    "kfold = KFold(shuffle=True, random_state=24, n_splits=5)\n",
    "\n",
    "std_scaler = StandardScaler()\n",
    "mm_scaler = MinMaxScaler()\n",
    "svr = SVR(kernel='linear')\n",
    "\n",
    "pipe = Pipeline([('SCL', None), ('SVR', svr)])\n",
    "\n",
    "print(pipe.get_params())\n",
    "params = {'SVR__C': np.linspace(0.001, 5, 3),\n",
    "          'SVR__epsilon': np.linspace(0.001, 5, 3),\n",
    "        #   'SVR__gamma':np.linspace(0.001,5,5),\n",
    "        #   'SVR__coef0':np.linspace(0,3,5),\n",
    "          'SCL':[std_scaler, mm_scaler, None]}\n",
    "\n",
    "gcv = GridSearchCV(pipe, param_grid=params, cv=kfold, scoring='r2')\n",
    "\n",
    "gcv.fit(X, y)\n",
    "\n",
    "print(gcv.best_params_)\n",
    "print(gcv.best_score_)"
   ]
  }
 ],
 "metadata": {
  "kernelspec": {
   "display_name": "New",
   "language": "python",
   "name": "python3"
  },
  "language_info": {
   "codemirror_mode": {
    "name": "ipython",
    "version": 3
   },
   "file_extension": ".py",
   "mimetype": "text/x-python",
   "name": "python",
   "nbconvert_exporter": "python",
   "pygments_lexer": "ipython3",
   "version": "3.10.13"
  }
 },
 "nbformat": 4,
 "nbformat_minor": 2
}
